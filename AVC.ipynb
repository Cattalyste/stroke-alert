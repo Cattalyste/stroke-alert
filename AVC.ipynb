{
 "cells": [
  {
   "cell_type": "markdown",
   "id": "403b7a5a",
   "metadata": {},
   "source": [
    "# stroke-alert"
   ]
  },
  {
   "cell_type": "markdown",
   "id": "a3c66932",
   "metadata": {},
   "source": [
    "**Predictable variable: stroke**  \n",
    "We are aiming to early predict and alert the stroke risk based on individual's demographical and health data."
   ]
  },
  {
   "cell_type": "code",
   "execution_count": 1,
   "id": "be5bb47e-09bb-459c-adf0-b7f5ff9eb9f4",
   "metadata": {},
   "outputs": [],
   "source": [
    "import pandas as pd\n",
    "import matplotlib.pyplot as plt\n",
    "%matplotlib inline \n",
    "import seaborn as sns\n",
    "from sklearn.model_selection import train_test_split,KFold\n",
    "from sklearn.preprocessing import LabelEncoder,StandardScaler\n",
    "from sklearn.feature_selection import RFE,RFECV\n",
    "from sklearn.linear_model import LinearRegression, LogisticRegression\n",
    "from sklearn.ensemble import RandomForestClassifier\n",
    "from sklearn.metrics import accuracy_score\n",
    "from sklearn.metrics import confusion_matrix\n",
    "from scipy.stats import pointbiserialr\n",
    "from scipy.stats import chi2_contingency\n",
    "import numpy as np"
   ]
  },
  {
   "cell_type": "markdown",
   "id": "d884a100",
   "metadata": {},
   "source": [
    "Original data:"
   ]
  },
  {
   "cell_type": "code",
   "execution_count": 2,
   "id": "50a40458",
   "metadata": {},
   "outputs": [
    {
     "data": {
      "text/html": [
       "<div>\n",
       "<style scoped>\n",
       "    .dataframe tbody tr th:only-of-type {\n",
       "        vertical-align: middle;\n",
       "    }\n",
       "\n",
       "    .dataframe tbody tr th {\n",
       "        vertical-align: top;\n",
       "    }\n",
       "\n",
       "    .dataframe thead th {\n",
       "        text-align: right;\n",
       "    }\n",
       "</style>\n",
       "<table border=\"1\" class=\"dataframe\">\n",
       "  <thead>\n",
       "    <tr style=\"text-align: right;\">\n",
       "      <th></th>\n",
       "      <th>id</th>\n",
       "      <th>gender</th>\n",
       "      <th>age</th>\n",
       "      <th>hypertension</th>\n",
       "      <th>heart_disease</th>\n",
       "      <th>ever_married</th>\n",
       "      <th>work_type</th>\n",
       "      <th>Residence_type</th>\n",
       "      <th>avg_glucose_level</th>\n",
       "      <th>bmi</th>\n",
       "      <th>smoking_status</th>\n",
       "      <th>stroke</th>\n",
       "    </tr>\n",
       "  </thead>\n",
       "  <tbody>\n",
       "    <tr>\n",
       "      <th>0</th>\n",
       "      <td>9046</td>\n",
       "      <td>Male</td>\n",
       "      <td>67.0</td>\n",
       "      <td>0</td>\n",
       "      <td>1</td>\n",
       "      <td>Yes</td>\n",
       "      <td>Private</td>\n",
       "      <td>Urban</td>\n",
       "      <td>228.69</td>\n",
       "      <td>36.6</td>\n",
       "      <td>formerly smoked</td>\n",
       "      <td>1</td>\n",
       "    </tr>\n",
       "    <tr>\n",
       "      <th>1</th>\n",
       "      <td>51676</td>\n",
       "      <td>Female</td>\n",
       "      <td>61.0</td>\n",
       "      <td>0</td>\n",
       "      <td>0</td>\n",
       "      <td>Yes</td>\n",
       "      <td>Self-employed</td>\n",
       "      <td>Rural</td>\n",
       "      <td>202.21</td>\n",
       "      <td>NaN</td>\n",
       "      <td>never smoked</td>\n",
       "      <td>1</td>\n",
       "    </tr>\n",
       "    <tr>\n",
       "      <th>2</th>\n",
       "      <td>31112</td>\n",
       "      <td>Male</td>\n",
       "      <td>80.0</td>\n",
       "      <td>0</td>\n",
       "      <td>1</td>\n",
       "      <td>Yes</td>\n",
       "      <td>Private</td>\n",
       "      <td>Rural</td>\n",
       "      <td>105.92</td>\n",
       "      <td>32.5</td>\n",
       "      <td>never smoked</td>\n",
       "      <td>1</td>\n",
       "    </tr>\n",
       "    <tr>\n",
       "      <th>3</th>\n",
       "      <td>60182</td>\n",
       "      <td>Female</td>\n",
       "      <td>49.0</td>\n",
       "      <td>0</td>\n",
       "      <td>0</td>\n",
       "      <td>Yes</td>\n",
       "      <td>Private</td>\n",
       "      <td>Urban</td>\n",
       "      <td>171.23</td>\n",
       "      <td>34.4</td>\n",
       "      <td>smokes</td>\n",
       "      <td>1</td>\n",
       "    </tr>\n",
       "    <tr>\n",
       "      <th>4</th>\n",
       "      <td>1665</td>\n",
       "      <td>Female</td>\n",
       "      <td>79.0</td>\n",
       "      <td>1</td>\n",
       "      <td>0</td>\n",
       "      <td>Yes</td>\n",
       "      <td>Self-employed</td>\n",
       "      <td>Rural</td>\n",
       "      <td>174.12</td>\n",
       "      <td>24.0</td>\n",
       "      <td>never smoked</td>\n",
       "      <td>1</td>\n",
       "    </tr>\n",
       "  </tbody>\n",
       "</table>\n",
       "</div>"
      ],
      "text/plain": [
       "      id  gender   age  hypertension  heart_disease ever_married  \\\n",
       "0   9046    Male  67.0             0              1          Yes   \n",
       "1  51676  Female  61.0             0              0          Yes   \n",
       "2  31112    Male  80.0             0              1          Yes   \n",
       "3  60182  Female  49.0             0              0          Yes   \n",
       "4   1665  Female  79.0             1              0          Yes   \n",
       "\n",
       "       work_type Residence_type  avg_glucose_level   bmi   smoking_status  \\\n",
       "0        Private          Urban             228.69  36.6  formerly smoked   \n",
       "1  Self-employed          Rural             202.21   NaN     never smoked   \n",
       "2        Private          Rural             105.92  32.5     never smoked   \n",
       "3        Private          Urban             171.23  34.4           smokes   \n",
       "4  Self-employed          Rural             174.12  24.0     never smoked   \n",
       "\n",
       "   stroke  \n",
       "0       1  \n",
       "1       1  \n",
       "2       1  \n",
       "3       1  \n",
       "4       1  "
      ]
     },
     "execution_count": 2,
     "metadata": {},
     "output_type": "execute_result"
    }
   ],
   "source": [
    "df = pd.read_csv(\"AVC.csv\")\n",
    "df_original = df.copy()\n",
    "df.head()"
   ]
  },
  {
   "cell_type": "markdown",
   "id": "dbe0075f",
   "metadata": {},
   "source": [
    "## Data Cleaning"
   ]
  },
  {
   "cell_type": "code",
   "execution_count": 3,
   "id": "832503a9-ef68-4dbd-a659-4ff229f4c522",
   "metadata": {},
   "outputs": [
    {
     "name": "stdout",
     "output_type": "stream",
     "text": [
      "<class 'pandas.core.frame.DataFrame'>\n",
      "RangeIndex: 5110 entries, 0 to 5109\n",
      "Data columns (total 12 columns):\n",
      " #   Column             Non-Null Count  Dtype  \n",
      "---  ------             --------------  -----  \n",
      " 0   id                 5110 non-null   int64  \n",
      " 1   gender             5110 non-null   object \n",
      " 2   age                5110 non-null   float64\n",
      " 3   hypertension       5110 non-null   int64  \n",
      " 4   heart_disease      5110 non-null   int64  \n",
      " 5   ever_married       5110 non-null   object \n",
      " 6   work_type          5110 non-null   object \n",
      " 7   Residence_type     5110 non-null   object \n",
      " 8   avg_glucose_level  5110 non-null   float64\n",
      " 9   bmi                4909 non-null   float64\n",
      " 10  smoking_status     5110 non-null   object \n",
      " 11  stroke             5110 non-null   int64  \n",
      "dtypes: float64(3), int64(4), object(5)\n",
      "memory usage: 479.2+ KB\n"
     ]
    }
   ],
   "source": [
    "df.info()"
   ]
  },
  {
   "cell_type": "markdown",
   "id": "32b62034",
   "metadata": {},
   "source": [
    "### Initial data cleaning"
   ]
  },
  {
   "cell_type": "markdown",
   "id": "375fecb2",
   "metadata": {},
   "source": [
    "Deleting lines where bmi value is empty "
   ]
  },
  {
   "cell_type": "code",
   "execution_count": 4,
   "id": "8bacb41d",
   "metadata": {},
   "outputs": [],
   "source": [
    "df = df.dropna(subset=['bmi'])"
   ]
  },
  {
   "cell_type": "markdown",
   "id": "bae56e9e",
   "metadata": {},
   "source": [
    "Converting categorical variables to numerical representations"
   ]
  },
  {
   "cell_type": "code",
   "execution_count": 5,
   "id": "687a7021",
   "metadata": {},
   "outputs": [],
   "source": [
    "categorical_vars = ['gender', 'hypertension', 'heart_disease', 'ever_married',\n",
    "                    'work_type', 'Residence_type', 'smoking_status', 'stroke']\n",
    "\n",
    "# Apply label encoding to the categorical variables\n",
    "encoder = LabelEncoder()\n",
    "df[categorical_vars] = df[categorical_vars].apply(encoder.fit_transform)"
   ]
  },
  {
   "cell_type": "markdown",
   "id": "449477cc",
   "metadata": {},
   "source": [
    "Deleting columns:  \n",
    "- ID,  \n",
    "- ever_married\n",
    "\n",
    "Records:  \n",
    "- where BMI values are superior to 69"
   ]
  },
  {
   "cell_type": "markdown",
   "id": "1ed72993",
   "metadata": {},
   "source": [
    "There is significant correlation between ever_married and age: **68%**"
   ]
  },
  {
   "cell_type": "code",
   "execution_count": 6,
   "id": "13b72fb3",
   "metadata": {},
   "outputs": [
    {
     "name": "stdout",
     "output_type": "stream",
     "text": [
      "Point-biserial correlation coefficients for age:\n",
      "ever_married: 0.6791 (p-value: 0.0000)\n"
     ]
    }
   ],
   "source": [
    "continuous_var = 'age'\n",
    "\n",
    "binary_var = 'ever_married'\n",
    "\n",
    "print(f'Point-biserial correlation coefficients for {continuous_var}:')\n",
    "correlation_coefficient, p_value = pointbiserialr(df[continuous_var], df[binary_var])\n",
    "print(f'{binary_var}: {correlation_coefficient:.4f} (p-value: {p_value:.4f})')\n"
   ]
  },
  {
   "cell_type": "markdown",
   "id": "dccee40e",
   "metadata": {},
   "source": [
    "Deleting columns ID, ever_married, records where BMI values are superior to 69:"
   ]
  },
  {
   "cell_type": "code",
   "execution_count": 7,
   "id": "c0ec9795-259f-4b13-a9f3-a62d5102186e",
   "metadata": {},
   "outputs": [],
   "source": [
    "df = df.drop('id', axis=1)\n",
    "df = df.drop('ever_married', axis=1)\n",
    "df = df.drop(df[df['bmi'] >= 69].index) #IMC de 59 correspond à 170cm 200 Kg, les valeurs max sont à 97,6 (abérant)"
   ]
  },
  {
   "cell_type": "markdown",
   "id": "33b79da8",
   "metadata": {},
   "source": [
    "Data records where BMI >= 69 (from original dataframe):"
   ]
  },
  {
   "cell_type": "code",
   "execution_count": 8,
   "id": "891f0256",
   "metadata": {},
   "outputs": [
    {
     "data": {
      "text/html": [
       "<div>\n",
       "<style scoped>\n",
       "    .dataframe tbody tr th:only-of-type {\n",
       "        vertical-align: middle;\n",
       "    }\n",
       "\n",
       "    .dataframe tbody tr th {\n",
       "        vertical-align: top;\n",
       "    }\n",
       "\n",
       "    .dataframe thead th {\n",
       "        text-align: right;\n",
       "    }\n",
       "</style>\n",
       "<table border=\"1\" class=\"dataframe\">\n",
       "  <thead>\n",
       "    <tr style=\"text-align: right;\">\n",
       "      <th></th>\n",
       "      <th>id</th>\n",
       "      <th>gender</th>\n",
       "      <th>age</th>\n",
       "      <th>hypertension</th>\n",
       "      <th>heart_disease</th>\n",
       "      <th>ever_married</th>\n",
       "      <th>work_type</th>\n",
       "      <th>Residence_type</th>\n",
       "      <th>avg_glucose_level</th>\n",
       "      <th>bmi</th>\n",
       "      <th>smoking_status</th>\n",
       "      <th>stroke</th>\n",
       "    </tr>\n",
       "  </thead>\n",
       "  <tbody>\n",
       "    <tr>\n",
       "      <th>2128</th>\n",
       "      <td>56420</td>\n",
       "      <td>Male</td>\n",
       "      <td>17.0</td>\n",
       "      <td>1</td>\n",
       "      <td>0</td>\n",
       "      <td>No</td>\n",
       "      <td>Private</td>\n",
       "      <td>Rural</td>\n",
       "      <td>61.67</td>\n",
       "      <td>97.6</td>\n",
       "      <td>Unknown</td>\n",
       "      <td>0</td>\n",
       "    </tr>\n",
       "    <tr>\n",
       "      <th>4209</th>\n",
       "      <td>51856</td>\n",
       "      <td>Male</td>\n",
       "      <td>38.0</td>\n",
       "      <td>1</td>\n",
       "      <td>0</td>\n",
       "      <td>Yes</td>\n",
       "      <td>Private</td>\n",
       "      <td>Rural</td>\n",
       "      <td>56.90</td>\n",
       "      <td>92.0</td>\n",
       "      <td>never smoked</td>\n",
       "      <td>0</td>\n",
       "    </tr>\n",
       "    <tr>\n",
       "      <th>928</th>\n",
       "      <td>41097</td>\n",
       "      <td>Female</td>\n",
       "      <td>23.0</td>\n",
       "      <td>1</td>\n",
       "      <td>0</td>\n",
       "      <td>No</td>\n",
       "      <td>Private</td>\n",
       "      <td>Urban</td>\n",
       "      <td>70.03</td>\n",
       "      <td>78.0</td>\n",
       "      <td>smokes</td>\n",
       "      <td>0</td>\n",
       "    </tr>\n",
       "    <tr>\n",
       "      <th>544</th>\n",
       "      <td>545</td>\n",
       "      <td>Male</td>\n",
       "      <td>42.0</td>\n",
       "      <td>0</td>\n",
       "      <td>0</td>\n",
       "      <td>Yes</td>\n",
       "      <td>Private</td>\n",
       "      <td>Rural</td>\n",
       "      <td>210.48</td>\n",
       "      <td>71.9</td>\n",
       "      <td>never smoked</td>\n",
       "      <td>0</td>\n",
       "    </tr>\n",
       "  </tbody>\n",
       "</table>\n",
       "</div>"
      ],
      "text/plain": [
       "         id  gender   age  hypertension  heart_disease ever_married work_type  \\\n",
       "2128  56420    Male  17.0             1              0           No   Private   \n",
       "4209  51856    Male  38.0             1              0          Yes   Private   \n",
       "928   41097  Female  23.0             1              0           No   Private   \n",
       "544     545    Male  42.0             0              0          Yes   Private   \n",
       "\n",
       "     Residence_type  avg_glucose_level   bmi smoking_status  stroke  \n",
       "2128          Rural              61.67  97.6        Unknown       0  \n",
       "4209          Rural              56.90  92.0   never smoked       0  \n",
       "928           Urban              70.03  78.0         smokes       0  \n",
       "544           Rural             210.48  71.9   never smoked       0  "
      ]
     },
     "execution_count": 8,
     "metadata": {},
     "output_type": "execute_result"
    }
   ],
   "source": [
    "high_bmi_df = df_original[(df_original['bmi'] >= 69)]\n",
    "high_bmi_df.sort_values(by='bmi', ascending=False)"
   ]
  },
  {
   "cell_type": "code",
   "execution_count": 9,
   "id": "e764c340",
   "metadata": {},
   "outputs": [
    {
     "data": {
      "image/png": "[encoded data removed]",
      "text/plain": [
       "<Figure size 400x500 with 1 Axes>"
      ]
     },
     "metadata": {},
     "output_type": "display_data"
    }
   ],
   "source": [
    "plt.figure(figsize=(4, 5))\n",
    "df_original.boxplot(column='bmi')\n",
    "plt.title('Box Plot of BMI')\n",
    "plt.ylabel('BMI')\n",
    "plt.show()"
   ]
  },
  {
   "cell_type": "markdown",
   "id": "431ce2fa",
   "metadata": {},
   "source": [
    "Changing 'smoking_status' 0 ('Unknown') values to null:"
   ]
  },
  {
   "cell_type": "code",
   "execution_count": 10,
   "id": "6110ca7a",
   "metadata": {},
   "outputs": [],
   "source": [
    "# df['smoking_status'] = df['smoking_status'].replace(0, None)"
   ]
  },
  {
   "cell_type": "markdown",
   "id": "befaffba",
   "metadata": {},
   "source": [
    "### Gender"
   ]
  },
  {
   "cell_type": "code",
   "execution_count": 11,
   "id": "4e684eaa-518d-40a9-aa71-d4e2bd9814c7",
   "metadata": {},
   "outputs": [
    {
     "data": {
      "image/png": "[encoded data removed]",
      "text/plain": [
       "<Figure size 640x480 with 1 Axes>"
      ]
     },
     "metadata": {},
     "output_type": "display_data"
    }
   ],
   "source": [
    "df.gender.value_counts().plot(kind='bar')\n",
    "plt.show()"
   ]
  },
  {
   "cell_type": "markdown",
   "id": "51a04dae",
   "metadata": {},
   "source": [
    "Removing 1 data sample with gender 'Other' (2)"
   ]
  },
  {
   "cell_type": "code",
   "execution_count": 12,
   "id": "3ea80f2a",
   "metadata": {},
   "outputs": [],
   "source": [
    "df = df.drop(df[df['gender'] == 2].index)"
   ]
  },
  {
   "cell_type": "markdown",
   "id": "682fec51",
   "metadata": {},
   "source": [
    "### Residence type"
   ]
  },
  {
   "cell_type": "code",
   "execution_count": 13,
   "id": "6a90602a-8abb-4242-9613-70d43c91eabe",
   "metadata": {},
   "outputs": [
    {
     "data": {
      "image/png": "[encoded data removed]",
      "text/plain": [
       "<Figure size 640x480 with 1 Axes>"
      ]
     },
     "metadata": {},
     "output_type": "display_data"
    }
   ],
   "source": [
    "df.Residence_type.value_counts().plot(kind='bar')\n",
    "plt.show()"
   ]
  },
  {
   "cell_type": "markdown",
   "id": "14fd936c",
   "metadata": {},
   "source": [
    "### Work type"
   ]
  },
  {
   "cell_type": "code",
   "execution_count": 14,
   "id": "2ce4f466",
   "metadata": {},
   "outputs": [
    {
     "data": {
      "image/png": "[encoded data removed]",
      "text/plain": [
       "<Figure size 640x480 with 1 Axes>"
      ]
     },
     "metadata": {},
     "output_type": "display_data"
    }
   ],
   "source": [
    "df_original.work_type.value_counts().plot(kind='bar')\n",
    "plt.show()"
   ]
  },
  {
   "cell_type": "code",
   "execution_count": 15,
   "id": "4a5a7ef9-cb60-44be-bb92-0ebe144ac8dc",
   "metadata": {},
   "outputs": [
    {
     "data": {
      "image/png": "[encoded data removed]",
      "text/plain": [
       "<Figure size 640x480 with 1 Axes>"
      ]
     },
     "metadata": {},
     "output_type": "display_data"
    }
   ],
   "source": [
    "df.work_type.value_counts().plot(kind='bar')\n",
    "plt.show()"
   ]
  },
  {
   "cell_type": "markdown",
   "id": "ba22d016",
   "metadata": {},
   "source": [
    "### Smoking status"
   ]
  },
  {
   "cell_type": "markdown",
   "id": "03c181ab",
   "metadata": {},
   "source": [
    "Original data:"
   ]
  },
  {
   "cell_type": "code",
   "execution_count": 16,
   "id": "12fbde80",
   "metadata": {},
   "outputs": [
    {
     "data": {
      "image/png": "[encoded data removed]",
      "text/plain": [
       "<Figure size 640x480 with 1 Axes>"
      ]
     },
     "metadata": {},
     "output_type": "display_data"
    }
   ],
   "source": [
    "df_original.smoking_status.value_counts().plot(kind='bar')\n",
    "plt.show()"
   ]
  },
  {
   "cell_type": "code",
   "execution_count": 17,
   "id": "de656c4f",
   "metadata": {},
   "outputs": [
    {
     "data": {
      "image/png": "[encoded data removed]",
      "text/plain": [
       "<Figure size 640x480 with 1 Axes>"
      ]
     },
     "metadata": {},
     "output_type": "display_data"
    }
   ],
   "source": [
    "df.smoking_status.value_counts().plot(kind='bar')\n",
    "plt.show()"
   ]
  },
  {
   "cell_type": "markdown",
   "id": "01560d71",
   "metadata": {},
   "source": [
    "### Hypertension"
   ]
  },
  {
   "cell_type": "code",
   "execution_count": 18,
   "id": "4409fcea-b010-47af-9cd7-cc558fadf8c3",
   "metadata": {},
   "outputs": [
    {
     "data": {
      "image/png": "[encoded data removed]",
      "text/plain": [
       "<Figure size 640x480 with 1 Axes>"
      ]
     },
     "metadata": {},
     "output_type": "display_data"
    }
   ],
   "source": [
    "df.hypertension.value_counts().plot(kind='bar')\n",
    "plt.show()"
   ]
  },
  {
   "cell_type": "markdown",
   "id": "05d1b843",
   "metadata": {},
   "source": [
    "### Heart disease"
   ]
  },
  {
   "cell_type": "code",
   "execution_count": 19,
   "id": "6bebf3fb-c864-4482-b6a7-08228707042e",
   "metadata": {},
   "outputs": [
    {
     "data": {
      "image/png": "[encoded data removed]",
      "text/plain": [
       "<Figure size 640x480 with 1 Axes>"
      ]
     },
     "metadata": {},
     "output_type": "display_data"
    }
   ],
   "source": [
    "df.heart_disease.value_counts().plot(kind='bar')\n",
    "plt.show()"
   ]
  },
  {
   "cell_type": "markdown",
   "id": "cb77d704",
   "metadata": {},
   "source": [
    "### Stroke"
   ]
  },
  {
   "cell_type": "code",
   "execution_count": 20,
   "id": "0cab11f3",
   "metadata": {},
   "outputs": [
    {
     "data": {
      "image/png": "[encoded data removed]",
      "text/plain": [
       "<Figure size 640x480 with 1 Axes>"
      ]
     },
     "metadata": {},
     "output_type": "display_data"
    }
   ],
   "source": [
    "df.stroke.value_counts().plot(kind='bar')\n",
    "plt.show()"
   ]
  },
  {
   "cell_type": "markdown",
   "id": "3c2865f6",
   "metadata": {},
   "source": [
    "### Age"
   ]
  },
  {
   "cell_type": "markdown",
   "id": "c7c413a3",
   "metadata": {},
   "source": [
    "Data distribution:"
   ]
  },
  {
   "cell_type": "code",
   "execution_count": 21,
   "id": "9718aeff",
   "metadata": {},
   "outputs": [
    {
     "data": {
      "image/png": "[encoded data removed]",
      "text/plain": [
       "<Figure size 500x400 with 1 Axes>"
      ]
     },
     "metadata": {},
     "output_type": "display_data"
    }
   ],
   "source": [
    "plt.figure(figsize=(5, 4))\n",
    "plt.hist(df['age'], bins=41, color='lightblue', edgecolor='black')\n",
    "plt.title('Distribution of Data in Age')\n",
    "plt.xlabel('Unique Values')\n",
    "plt.ylabel('Frequency')\n",
    "plt.show()"
   ]
  },
  {
   "cell_type": "markdown",
   "id": "ed775d71",
   "metadata": {},
   "source": [
    "Calculating the histogram bin edges"
   ]
  },
  {
   "cell_type": "code",
   "execution_count": 22,
   "id": "c976dedb",
   "metadata": {},
   "outputs": [
    {
     "name": "stdout",
     "output_type": "stream",
     "text": [
      "Bin 1: Start: 3.0, End: 4.926829268292683\n",
      "Bin 2: Start: 4.926829268292683, End: 6.853658536585366\n",
      "Bin 3: Start: 6.853658536585366, End: 8.78048780487805\n"
     ]
    }
   ],
   "source": [
    "# Calculate histogram values and bin edges\n",
    "hist_values, bin_edges = np.histogram(df['age'], bins=41, range=(df['age'].min(), df['age'].max()))\n",
    "\n",
    "# Print start and end points of each bin\n",
    "for i, (start, end) in enumerate(zip(bin_edges[:-1], bin_edges[1:])):\n",
    "    if i == 3: break\n",
    "    print(f'Bin {i + 1}: Start: {start}, End: {end}')"
   ]
  },
  {
   "cell_type": "markdown",
   "id": "3cda1bde",
   "metadata": {},
   "source": [
    "Age < 2.08 (first histogram bin) - values where stroke = 1: "
   ]
  },
  {
   "cell_type": "code",
   "execution_count": 23,
   "id": "7f9f8b63",
   "metadata": {},
   "outputs": [
    {
     "data": {
      "text/html": [
       "<div>\n",
       "<style scoped>\n",
       "    .dataframe tbody tr th:only-of-type {\n",
       "        vertical-align: middle;\n",
       "    }\n",
       "\n",
       "    .dataframe tbody tr th {\n",
       "        vertical-align: top;\n",
       "    }\n",
       "\n",
       "    .dataframe thead th {\n",
       "        text-align: right;\n",
       "    }\n",
       "</style>\n",
       "<table border=\"1\" class=\"dataframe\">\n",
       "  <thead>\n",
       "    <tr style=\"text-align: right;\">\n",
       "      <th></th>\n",
       "      <th>gender</th>\n",
       "      <th>age</th>\n",
       "      <th>hypertension</th>\n",
       "      <th>heart_disease</th>\n",
       "      <th>work_type</th>\n",
       "      <th>Residence_type</th>\n",
       "      <th>avg_glucose_level</th>\n",
       "      <th>bmi</th>\n",
       "      <th>smoking_status</th>\n",
       "      <th>stroke</th>\n",
       "    </tr>\n",
       "  </thead>\n",
       "  <tbody>\n",
       "    <tr>\n",
       "      <th>162</th>\n",
       "      <td>0</td>\n",
       "      <td>1.32</td>\n",
       "      <td>0</td>\n",
       "      <td>0</td>\n",
       "      <td>4</td>\n",
       "      <td>1</td>\n",
       "      <td>70.37</td>\n",
       "      <td>NaN</td>\n",
       "      <td>0</td>\n",
       "      <td>1</td>\n",
       "    </tr>\n",
       "  </tbody>\n",
       "</table>\n",
       "</div>"
      ],
      "text/plain": [
       "     gender   age  hypertension  heart_disease  work_type  Residence_type  \\\n",
       "162       0  1.32             0              0          4               1   \n",
       "\n",
       "     avg_glucose_level  bmi  smoking_status  stroke  \n",
       "162              70.37  NaN               0       1  "
      ]
     },
     "execution_count": 23,
     "metadata": {},
     "output_type": "execute_result"
    }
   ],
   "source": [
    "test_df = df[(df['age'] <= 2.08) & (df['stroke'] == 1)]\n",
    "test_df.sort_values(by='age', ascending=False)"
   ]
  },
  {
   "cell_type": "markdown",
   "id": "147db66c",
   "metadata": {},
   "source": [
    "Age < 2.08 (first histogram bin) - all values: "
   ]
  },
  {
   "cell_type": "code",
   "execution_count": 24,
   "id": "36814122",
   "metadata": {},
   "outputs": [
    {
     "data": {
      "text/html": [
       "<div>\n",
       "<style scoped>\n",
       "    .dataframe tbody tr th:only-of-type {\n",
       "        vertical-align: middle;\n",
       "    }\n",
       "\n",
       "    .dataframe tbody tr th {\n",
       "        vertical-align: top;\n",
       "    }\n",
       "\n",
       "    .dataframe thead th {\n",
       "        text-align: right;\n",
       "    }\n",
       "</style>\n",
       "<table border=\"1\" class=\"dataframe\">\n",
       "  <thead>\n",
       "    <tr style=\"text-align: right;\">\n",
       "      <th></th>\n",
       "      <th>gender</th>\n",
       "      <th>age</th>\n",
       "      <th>hypertension</th>\n",
       "      <th>heart_disease</th>\n",
       "      <th>work_type</th>\n",
       "      <th>Residence_type</th>\n",
       "      <th>avg_glucose_level</th>\n",
       "      <th>bmi</th>\n",
       "      <th>smoking_status</th>\n",
       "      <th>stroke</th>\n",
       "    </tr>\n",
       "  </thead>\n",
       "  <tbody>\n",
       "    <tr>\n",
       "      <th>2687</th>\n",
       "      <td>0</td>\n",
       "      <td>2.00</td>\n",
       "      <td>0</td>\n",
       "      <td>0</td>\n",
       "      <td>4</td>\n",
       "      <td>0</td>\n",
       "      <td>100.66</td>\n",
       "      <td>18.5</td>\n",
       "      <td>0</td>\n",
       "      <td>0</td>\n",
       "    </tr>\n",
       "    <tr>\n",
       "      <th>1371</th>\n",
       "      <td>1</td>\n",
       "      <td>2.00</td>\n",
       "      <td>0</td>\n",
       "      <td>0</td>\n",
       "      <td>4</td>\n",
       "      <td>1</td>\n",
       "      <td>94.75</td>\n",
       "      <td>18.0</td>\n",
       "      <td>0</td>\n",
       "      <td>0</td>\n",
       "    </tr>\n",
       "    <tr>\n",
       "      <th>3908</th>\n",
       "      <td>0</td>\n",
       "      <td>2.00</td>\n",
       "      <td>0</td>\n",
       "      <td>0</td>\n",
       "      <td>4</td>\n",
       "      <td>0</td>\n",
       "      <td>70.25</td>\n",
       "      <td>17.0</td>\n",
       "      <td>0</td>\n",
       "      <td>0</td>\n",
       "    </tr>\n",
       "    <tr>\n",
       "      <th>1990</th>\n",
       "      <td>1</td>\n",
       "      <td>2.00</td>\n",
       "      <td>0</td>\n",
       "      <td>0</td>\n",
       "      <td>4</td>\n",
       "      <td>1</td>\n",
       "      <td>112.92</td>\n",
       "      <td>18.4</td>\n",
       "      <td>0</td>\n",
       "      <td>0</td>\n",
       "    </tr>\n",
       "    <tr>\n",
       "      <th>4065</th>\n",
       "      <td>1</td>\n",
       "      <td>2.00</td>\n",
       "      <td>0</td>\n",
       "      <td>0</td>\n",
       "      <td>4</td>\n",
       "      <td>1</td>\n",
       "      <td>89.32</td>\n",
       "      <td>17.2</td>\n",
       "      <td>0</td>\n",
       "      <td>0</td>\n",
       "    </tr>\n",
       "    <tr>\n",
       "      <th>...</th>\n",
       "      <td>...</td>\n",
       "      <td>...</td>\n",
       "      <td>...</td>\n",
       "      <td>...</td>\n",
       "      <td>...</td>\n",
       "      <td>...</td>\n",
       "      <td>...</td>\n",
       "      <td>...</td>\n",
       "      <td>...</td>\n",
       "      <td>...</td>\n",
       "    </tr>\n",
       "    <tr>\n",
       "      <th>3968</th>\n",
       "      <td>1</td>\n",
       "      <td>0.16</td>\n",
       "      <td>0</td>\n",
       "      <td>0</td>\n",
       "      <td>4</td>\n",
       "      <td>0</td>\n",
       "      <td>69.79</td>\n",
       "      <td>13.0</td>\n",
       "      <td>0</td>\n",
       "      <td>0</td>\n",
       "    </tr>\n",
       "    <tr>\n",
       "      <th>3618</th>\n",
       "      <td>1</td>\n",
       "      <td>0.16</td>\n",
       "      <td>0</td>\n",
       "      <td>0</td>\n",
       "      <td>4</td>\n",
       "      <td>1</td>\n",
       "      <td>114.71</td>\n",
       "      <td>17.4</td>\n",
       "      <td>0</td>\n",
       "      <td>0</td>\n",
       "    </tr>\n",
       "    <tr>\n",
       "      <th>4021</th>\n",
       "      <td>1</td>\n",
       "      <td>0.16</td>\n",
       "      <td>0</td>\n",
       "      <td>0</td>\n",
       "      <td>4</td>\n",
       "      <td>1</td>\n",
       "      <td>109.52</td>\n",
       "      <td>13.9</td>\n",
       "      <td>0</td>\n",
       "      <td>0</td>\n",
       "    </tr>\n",
       "    <tr>\n",
       "      <th>1614</th>\n",
       "      <td>0</td>\n",
       "      <td>0.08</td>\n",
       "      <td>0</td>\n",
       "      <td>0</td>\n",
       "      <td>4</td>\n",
       "      <td>1</td>\n",
       "      <td>139.67</td>\n",
       "      <td>14.1</td>\n",
       "      <td>0</td>\n",
       "      <td>0</td>\n",
       "    </tr>\n",
       "    <tr>\n",
       "      <th>3295</th>\n",
       "      <td>1</td>\n",
       "      <td>0.08</td>\n",
       "      <td>0</td>\n",
       "      <td>0</td>\n",
       "      <td>4</td>\n",
       "      <td>0</td>\n",
       "      <td>70.33</td>\n",
       "      <td>16.9</td>\n",
       "      <td>0</td>\n",
       "      <td>0</td>\n",
       "    </tr>\n",
       "  </tbody>\n",
       "</table>\n",
       "<p>175 rows × 10 columns</p>\n",
       "</div>"
      ],
      "text/plain": [
       "      gender   age  hypertension  heart_disease  work_type  Residence_type  \\\n",
       "2687       0  2.00             0              0          4               0   \n",
       "1371       1  2.00             0              0          4               1   \n",
       "3908       0  2.00             0              0          4               0   \n",
       "1990       1  2.00             0              0          4               1   \n",
       "4065       1  2.00             0              0          4               1   \n",
       "...      ...   ...           ...            ...        ...             ...   \n",
       "3968       1  0.16             0              0          4               0   \n",
       "3618       1  0.16             0              0          4               1   \n",
       "4021       1  0.16             0              0          4               1   \n",
       "1614       0  0.08             0              0          4               1   \n",
       "3295       1  0.08             0              0          4               0   \n",
       "\n",
       "      avg_glucose_level   bmi  smoking_status  stroke  \n",
       "2687             100.66  18.5               0       0  \n",
       "1371              94.75  18.0               0       0  \n",
       "3908              70.25  17.0               0       0  \n",
       "1990             112.92  18.4               0       0  \n",
       "4065              89.32  17.2               0       0  \n",
       "...                 ...   ...             ...     ...  \n",
       "3968              69.79  13.0               0       0  \n",
       "3618             114.71  17.4               0       0  \n",
       "4021             109.52  13.9               0       0  \n",
       "1614             139.67  14.1               0       0  \n",
       "3295              70.33  16.9               0       0  \n",
       "\n",
       "[175 rows x 10 columns]"
      ]
     },
     "execution_count": 24,
     "metadata": {},
     "output_type": "execute_result"
    }
   ],
   "source": [
    "test_df = df[(df['age'] <= 2.08)]\n",
    "test_df.sort_values(by='age', ascending=False)"
   ]
  },
  {
   "cell_type": "markdown",
   "id": "caab27ef",
   "metadata": {},
   "source": [
    "**Deleting the records where age < 2.08** (175 records)"
   ]
  },
  {
   "cell_type": "code",
   "execution_count": 25,
   "id": "2b208534",
   "metadata": {},
   "outputs": [],
   "source": [
    "df = df.drop(df[df['age'] <= 2.08].index)"
   ]
  },
  {
   "cell_type": "markdown",
   "id": "1d9752ae",
   "metadata": {},
   "source": [
    "#### "
   ]
  },
  {
   "cell_type": "markdown",
   "id": "b35ab578",
   "metadata": {},
   "source": [
    "### Average glucose level"
   ]
  },
  {
   "cell_type": "code",
   "execution_count": 34,
   "id": "0732d031",
   "metadata": {},
   "outputs": [
    {
     "data": {
      "image/png": "[encoded data removed]",
      "text/plain": [
       "<Figure size 500x400 with 1 Axes>"
      ]
     },
     "metadata": {},
     "output_type": "display_data"
    }
   ],
   "source": [
    "plt.figure(figsize=(5, 4))\n",
    "plt.hist(df['avg_glucose_level'], bins=9, color='lightblue', edgecolor='black')\n",
    "plt.title('Distribution of Data in Average Glucose Level')\n",
    "plt.xlabel('Average glucose level')\n",
    "plt.ylabel('Frequency')\n",
    "plt.show()"
   ]
  },
  {
   "cell_type": "markdown",
   "id": "6b5e60df",
   "metadata": {},
   "source": [
    "### BMI"
   ]
  },
  {
   "cell_type": "markdown",
   "id": "e6732117",
   "metadata": {},
   "source": [
    "Deleting lines where bmi value is empty"
   ]
  },
  {
   "cell_type": "code",
   "execution_count": 25,
   "id": "210746be",
   "metadata": {},
   "outputs": [],
   "source": [
    "#df = df.dropna(subset=['bmi'])"
   ]
  },
  {
   "cell_type": "markdown",
   "id": "05cb34fb",
   "metadata": {},
   "source": [
    "## Correlation & Association"
   ]
  },
  {
   "cell_type": "markdown",
   "id": "95735d96",
   "metadata": {},
   "source": [
    "#### Continuous variables"
   ]
  },
  {
   "cell_type": "code",
   "execution_count": 26,
   "id": "69a4825b",
   "metadata": {},
   "outputs": [
    {
     "data": {
      "text/html": [
       "<div>\n",
       "<style scoped>\n",
       "    .dataframe tbody tr th:only-of-type {\n",
       "        vertical-align: middle;\n",
       "    }\n",
       "\n",
       "    .dataframe tbody tr th {\n",
       "        vertical-align: top;\n",
       "    }\n",
       "\n",
       "    .dataframe thead th {\n",
       "        text-align: right;\n",
       "    }\n",
       "</style>\n",
       "<table border=\"1\" class=\"dataframe\">\n",
       "  <thead>\n",
       "    <tr style=\"text-align: right;\">\n",
       "      <th></th>\n",
       "      <th>age</th>\n",
       "      <th>avg_glucose_level</th>\n",
       "      <th>bmi</th>\n",
       "    </tr>\n",
       "  </thead>\n",
       "  <tbody>\n",
       "    <tr>\n",
       "      <th>count</th>\n",
       "      <td>4930.000000</td>\n",
       "      <td>4930.000000</td>\n",
       "      <td>4735.000000</td>\n",
       "    </tr>\n",
       "    <tr>\n",
       "      <th>mean</th>\n",
       "      <td>44.725558</td>\n",
       "      <td>106.524576</td>\n",
       "      <td>29.211954</td>\n",
       "    </tr>\n",
       "    <tr>\n",
       "      <th>std</th>\n",
       "      <td>21.571810</td>\n",
       "      <td>45.724836</td>\n",
       "      <td>7.552102</td>\n",
       "    </tr>\n",
       "    <tr>\n",
       "      <th>min</th>\n",
       "      <td>3.000000</td>\n",
       "      <td>55.120000</td>\n",
       "      <td>11.300000</td>\n",
       "    </tr>\n",
       "    <tr>\n",
       "      <th>25%</th>\n",
       "      <td>28.000000</td>\n",
       "      <td>77.382500</td>\n",
       "      <td>24.050000</td>\n",
       "    </tr>\n",
       "    <tr>\n",
       "      <th>50%</th>\n",
       "      <td>46.000000</td>\n",
       "      <td>91.910000</td>\n",
       "      <td>28.300000</td>\n",
       "    </tr>\n",
       "    <tr>\n",
       "      <th>75%</th>\n",
       "      <td>61.000000</td>\n",
       "      <td>114.320000</td>\n",
       "      <td>33.300000</td>\n",
       "    </tr>\n",
       "    <tr>\n",
       "      <th>max</th>\n",
       "      <td>82.000000</td>\n",
       "      <td>271.740000</td>\n",
       "      <td>66.800000</td>\n",
       "    </tr>\n",
       "  </tbody>\n",
       "</table>\n",
       "</div>"
      ],
      "text/plain": [
       "               age  avg_glucose_level          bmi\n",
       "count  4930.000000        4930.000000  4735.000000\n",
       "mean     44.725558         106.524576    29.211954\n",
       "std      21.571810          45.724836     7.552102\n",
       "min       3.000000          55.120000    11.300000\n",
       "25%      28.000000          77.382500    24.050000\n",
       "50%      46.000000          91.910000    28.300000\n",
       "75%      61.000000         114.320000    33.300000\n",
       "max      82.000000         271.740000    66.800000"
      ]
     },
     "execution_count": 26,
     "metadata": {},
     "output_type": "execute_result"
    }
   ],
   "source": [
    "df[['age','avg_glucose_level','bmi']].describe()"
   ]
  },
  {
   "cell_type": "markdown",
   "id": "b73f6721",
   "metadata": {},
   "source": [
    "#### Categorical variables (binary & nominal)"
   ]
  },
  {
   "cell_type": "code",
   "execution_count": 27,
   "id": "ede6f8c1",
   "metadata": {},
   "outputs": [
    {
     "data": {
      "text/html": [
       "<div>\n",
       "<style scoped>\n",
       "    .dataframe tbody tr th:only-of-type {\n",
       "        vertical-align: middle;\n",
       "    }\n",
       "\n",
       "    .dataframe tbody tr th {\n",
       "        vertical-align: top;\n",
       "    }\n",
       "\n",
       "    .dataframe thead th {\n",
       "        text-align: right;\n",
       "    }\n",
       "</style>\n",
       "<table border=\"1\" class=\"dataframe\">\n",
       "  <thead>\n",
       "    <tr style=\"text-align: right;\">\n",
       "      <th></th>\n",
       "      <th>gender</th>\n",
       "      <th>hypertension</th>\n",
       "      <th>heart_disease</th>\n",
       "      <th>work_type</th>\n",
       "      <th>Residence_type</th>\n",
       "      <th>smoking_status</th>\n",
       "      <th>stroke</th>\n",
       "    </tr>\n",
       "  </thead>\n",
       "  <tbody>\n",
       "    <tr>\n",
       "      <th>0</th>\n",
       "      <td>1</td>\n",
       "      <td>0</td>\n",
       "      <td>1</td>\n",
       "      <td>2</td>\n",
       "      <td>1</td>\n",
       "      <td>1</td>\n",
       "      <td>1</td>\n",
       "    </tr>\n",
       "    <tr>\n",
       "      <th>1</th>\n",
       "      <td>0</td>\n",
       "      <td>0</td>\n",
       "      <td>0</td>\n",
       "      <td>3</td>\n",
       "      <td>0</td>\n",
       "      <td>2</td>\n",
       "      <td>1</td>\n",
       "    </tr>\n",
       "    <tr>\n",
       "      <th>2</th>\n",
       "      <td>1</td>\n",
       "      <td>0</td>\n",
       "      <td>1</td>\n",
       "      <td>2</td>\n",
       "      <td>0</td>\n",
       "      <td>2</td>\n",
       "      <td>1</td>\n",
       "    </tr>\n",
       "    <tr>\n",
       "      <th>3</th>\n",
       "      <td>0</td>\n",
       "      <td>0</td>\n",
       "      <td>0</td>\n",
       "      <td>2</td>\n",
       "      <td>1</td>\n",
       "      <td>3</td>\n",
       "      <td>1</td>\n",
       "    </tr>\n",
       "    <tr>\n",
       "      <th>4</th>\n",
       "      <td>0</td>\n",
       "      <td>1</td>\n",
       "      <td>0</td>\n",
       "      <td>3</td>\n",
       "      <td>0</td>\n",
       "      <td>2</td>\n",
       "      <td>1</td>\n",
       "    </tr>\n",
       "  </tbody>\n",
       "</table>\n",
       "</div>"
      ],
      "text/plain": [
       "   gender  hypertension  heart_disease  work_type  Residence_type  \\\n",
       "0       1             0              1          2               1   \n",
       "1       0             0              0          3               0   \n",
       "2       1             0              1          2               0   \n",
       "3       0             0              0          2               1   \n",
       "4       0             1              0          3               0   \n",
       "\n",
       "   smoking_status  stroke  \n",
       "0               1       1  \n",
       "1               2       1  \n",
       "2               2       1  \n",
       "3               3       1  \n",
       "4               2       1  "
      ]
     },
     "execution_count": 27,
     "metadata": {},
     "output_type": "execute_result"
    }
   ],
   "source": [
    "continuous_data_columns = ['age', 'avg_glucose_level', 'bmi']\n",
    "df_categorical_data = df.drop(columns=continuous_data_columns)\n",
    "df_categorical_data.head()"
   ]
  },
  {
   "cell_type": "markdown",
   "id": "344ea810",
   "metadata": {},
   "source": [
    "#### Heatmap"
   ]
  },
  {
   "cell_type": "code",
   "execution_count": 28,
   "id": "951f8ba3-7b30-4e35-a121-f755268ffaea",
   "metadata": {},
   "outputs": [
    {
     "data": {
      "image/png": "[encoded data removed]",
      "text/plain": [
       "<Figure size 1200x1200 with 2 Axes>"
      ]
     },
     "metadata": {},
     "output_type": "display_data"
    }
   ],
   "source": [
    "cor = df.corr()\n",
    "fig,ax = plt.subplots(figsize=(12,12))\n",
    "sns.heatmap(cor,annot=True,ax=ax,cmap='coolwarm');"
   ]
  },
  {
   "cell_type": "code",
   "execution_count": 29,
   "id": "9dbb329f-89ff-4e0e-b566-f8f470b76167",
   "metadata": {},
   "outputs": [
    {
     "data": {
      "text/html": [
       "<div>\n",
       "<style scoped>\n",
       "    .dataframe tbody tr th:only-of-type {\n",
       "        vertical-align: middle;\n",
       "    }\n",
       "\n",
       "    .dataframe tbody tr th {\n",
       "        vertical-align: top;\n",
       "    }\n",
       "\n",
       "    .dataframe thead th {\n",
       "        text-align: right;\n",
       "    }\n",
       "</style>\n",
       "<table border=\"1\" class=\"dataframe\">\n",
       "  <thead>\n",
       "    <tr style=\"text-align: right;\">\n",
       "      <th></th>\n",
       "      <th>gender</th>\n",
       "      <th>age</th>\n",
       "      <th>hypertension</th>\n",
       "      <th>heart_disease</th>\n",
       "      <th>work_type</th>\n",
       "      <th>Residence_type</th>\n",
       "      <th>avg_glucose_level</th>\n",
       "      <th>bmi</th>\n",
       "      <th>smoking_status</th>\n",
       "      <th>stroke</th>\n",
       "    </tr>\n",
       "  </thead>\n",
       "  <tbody>\n",
       "    <tr>\n",
       "      <th>0</th>\n",
       "      <td>1</td>\n",
       "      <td>67.0</td>\n",
       "      <td>0</td>\n",
       "      <td>1</td>\n",
       "      <td>2</td>\n",
       "      <td>1</td>\n",
       "      <td>228.69</td>\n",
       "      <td>36.6</td>\n",
       "      <td>1</td>\n",
       "      <td>1</td>\n",
       "    </tr>\n",
       "    <tr>\n",
       "      <th>1</th>\n",
       "      <td>0</td>\n",
       "      <td>61.0</td>\n",
       "      <td>0</td>\n",
       "      <td>0</td>\n",
       "      <td>3</td>\n",
       "      <td>0</td>\n",
       "      <td>202.21</td>\n",
       "      <td>NaN</td>\n",
       "      <td>2</td>\n",
       "      <td>1</td>\n",
       "    </tr>\n",
       "    <tr>\n",
       "      <th>2</th>\n",
       "      <td>1</td>\n",
       "      <td>80.0</td>\n",
       "      <td>0</td>\n",
       "      <td>1</td>\n",
       "      <td>2</td>\n",
       "      <td>0</td>\n",
       "      <td>105.92</td>\n",
       "      <td>32.5</td>\n",
       "      <td>2</td>\n",
       "      <td>1</td>\n",
       "    </tr>\n",
       "    <tr>\n",
       "      <th>3</th>\n",
       "      <td>0</td>\n",
       "      <td>49.0</td>\n",
       "      <td>0</td>\n",
       "      <td>0</td>\n",
       "      <td>2</td>\n",
       "      <td>1</td>\n",
       "      <td>171.23</td>\n",
       "      <td>34.4</td>\n",
       "      <td>3</td>\n",
       "      <td>1</td>\n",
       "    </tr>\n",
       "    <tr>\n",
       "      <th>4</th>\n",
       "      <td>0</td>\n",
       "      <td>79.0</td>\n",
       "      <td>1</td>\n",
       "      <td>0</td>\n",
       "      <td>3</td>\n",
       "      <td>0</td>\n",
       "      <td>174.12</td>\n",
       "      <td>24.0</td>\n",
       "      <td>2</td>\n",
       "      <td>1</td>\n",
       "    </tr>\n",
       "  </tbody>\n",
       "</table>\n",
       "</div>"
      ],
      "text/plain": [
       "   gender   age  hypertension  heart_disease  work_type  Residence_type  \\\n",
       "0       1  67.0             0              1          2               1   \n",
       "1       0  61.0             0              0          3               0   \n",
       "2       1  80.0             0              1          2               0   \n",
       "3       0  49.0             0              0          2               1   \n",
       "4       0  79.0             1              0          3               0   \n",
       "\n",
       "   avg_glucose_level   bmi  smoking_status  stroke  \n",
       "0             228.69  36.6               1       1  \n",
       "1             202.21   NaN               2       1  \n",
       "2             105.92  32.5               2       1  \n",
       "3             171.23  34.4               3       1  \n",
       "4             174.12  24.0               2       1  "
      ]
     },
     "execution_count": 29,
     "metadata": {},
     "output_type": "execute_result"
    }
   ],
   "source": [
    "df.head()"
   ]
  },
  {
   "cell_type": "code",
   "execution_count": 30,
   "id": "2c33fd54-7499-4ef7-a008-3d594cecf0b1",
   "metadata": {},
   "outputs": [],
   "source": [
    "# sns.pairplot(df,kind=\"kde\")"
   ]
  },
  {
   "cell_type": "code",
   "execution_count": null,
   "id": "d9f2d6e9-2449-411b-b148-f943757c419b",
   "metadata": {},
   "outputs": [],
   "source": []
  },
  {
   "cell_type": "code",
   "execution_count": null,
   "id": "958a06e6-899c-4013-aba8-436dbedb427e",
   "metadata": {},
   "outputs": [],
   "source": []
  },
  {
   "cell_type": "markdown",
   "id": "f875e61c",
   "metadata": {},
   "source": [
    "#### Correlation between categorical binary variable *stroke* and continuous variables *age*, *glucose_level*, and *bmi*"
   ]
  },
  {
   "cell_type": "code",
   "execution_count": 31,
   "id": "bb0e9a71",
   "metadata": {},
   "outputs": [
    {
     "name": "stdout",
     "output_type": "stream",
     "text": [
      "Point-biserial correlation coefficients for age:\n",
      "stroke: 0.2331 (p-value: 0.0000)\n",
      "\n",
      "\n",
      "Point-biserial correlation coefficients for avg_glucose_level:\n",
      "stroke: 0.1386 (p-value: 0.0000)\n",
      "\n",
      "\n",
      "Point-biserial correlation coefficients for bmi:\n",
      "stroke: 0.0358 (p-value: 0.0137)\n",
      "\n",
      "\n"
     ]
    }
   ],
   "source": [
    "continuous_vars = ['age', 'avg_glucose_level', 'bmi']\n",
    "\n",
    "binary_vars = ['stroke']\n",
    "\n",
    "for continuous_var in continuous_vars:\n",
    "    print(f'Point-biserial correlation coefficients for {continuous_var}:')\n",
    "    for binary_var in binary_vars:\n",
    "        # Calculate the point-biserial correlation coefficient\n",
    "        correlation_coefficient, p_value = pointbiserialr(dfr[continuous_var], dfr[binary_var])\n",
    "        print(f'{binary_var}: {correlation_coefficient:.4f} (p-value: {p_value:.4f})')\n",
    "    print('\\n')"
   ]
  },
  {
   "cell_type": "markdown",
   "id": "92246707",
   "metadata": {},
   "source": [
    "There is a significant correlation between :  \n",
    "- **stroke and age (23%)**, and   \n",
    "- **stroke and average glucose level (14%)**"
   ]
  },
  {
   "cell_type": "markdown",
   "id": "bb62d76d",
   "metadata": {},
   "source": [
    "#### Variables associated with age"
   ]
  },
  {
   "cell_type": "markdown",
   "id": "8834123e",
   "metadata": {},
   "source": [
    "**Age** strongly correlates with :\n",
    "- **average glucose level (24%)** and  \n",
    "- **bmi (28%)**"
   ]
  },
  {
   "cell_type": "code",
   "execution_count": 32,
   "id": "93b139c3",
   "metadata": {},
   "outputs": [
    {
     "data": {
      "image/png": "[encoded data removed]",
      "text/plain": [
       "<Figure size 500x400 with 2 Axes>"
      ]
     },
     "metadata": {},
     "output_type": "display_data"
    }
   ],
   "source": [
    "continuous_df = df[continuous_vars].copy()\n",
    "continuous_df.corr(method='pearson')\n",
    "\n",
    "correlation_matrix = continuous_df.corr()\n",
    "plt.figure(figsize=(5, 4))\n",
    "sns.heatmap(correlation_matrix, annot=True, cmap='coolwarm', fmt=\".2f\", linewidths=.5)\n",
    "plt.title('Correlation Matrix between continuous variables')\n",
    "plt.show()"
   ]
  },
  {
   "cell_type": "markdown",
   "id": "c7ecf0aa",
   "metadata": {},
   "source": [
    "Age correlation with categorical variables:"
   ]
  },
  {
   "cell_type": "code",
   "execution_count": 33,
   "id": "d26ede96",
   "metadata": {},
   "outputs": [
    {
     "name": "stdout",
     "output_type": "stream",
     "text": [
      "Point-biserial correlation coefficients for age:\n",
      "gender: -0.0174 (p-value: 0.2323)\n",
      "hypertension: 0.2734 (p-value: 0.0000)\n",
      "heart_disease: 0.2608 (p-value: 0.0000)\n",
      "Residence_type: 0.0093 (p-value: 0.5208)\n",
      "work_type: -0.2893 (p-value: 0.0000)\n",
      "smoking_status: 0.2101 (p-value: 0.0000)\n",
      "\n",
      "\n"
     ]
    }
   ],
   "source": [
    "continuous_vars = ['age']\n",
    "\n",
    "binary_vars = ['gender', 'hypertension', 'heart_disease', 'Residence_type', 'work_type', 'smoking_status']\n",
    "\n",
    "for continuous_var in continuous_vars:\n",
    "    print(f'Point-biserial correlation coefficients for {continuous_var}:')\n",
    "    for binary_var in binary_vars:\n",
    "        # Calculate the point-biserial correlation coefficient\n",
    "        correlation_coefficient, p_value = pointbiserialr(df[continuous_var], df[binary_var])\n",
    "        print(f'{binary_var}: {correlation_coefficient:.4f} (p-value: {p_value:.4f})')\n",
    "    print('\\n')"
   ]
  },
  {
   "cell_type": "markdown",
   "id": "1c8f6e8e",
   "metadata": {},
   "source": [
    "**Age** has a significant association with :\n",
    "- **hypertension (27%)**,  \n",
    "- **heart_disease (26%)**,\n",
    "- **work_type (29%)**, and\n",
    "- **smoking_status (21%)**"
   ]
  },
  {
   "cell_type": "markdown",
   "id": "3cbd40bd",
   "metadata": {},
   "source": [
    "#### Correlation between categorical binary variable *stroke* and categorical binary & nominal variables *gender*, *hypertension*, *heart_disease*, *Residence_type*, *work_type*, and *smoking_status*"
   ]
  },
  {
   "cell_type": "code",
   "execution_count": 34,
   "id": "6612ad88",
   "metadata": {},
   "outputs": [
    {
     "name": "stdout",
     "output_type": "stream",
     "text": [
      "Chi-squared test for gender:\n",
      "Chi2 Statistic: 0.2854844866830843\n",
      "P-value: 0.5931288156681646\n",
      "\n",
      "Chi-squared test for hypertension:\n",
      "Chi2 Statistic: 92.21626964389694\n",
      "P-value: 7.77033189678309e-22\n",
      "\n",
      "Chi-squared test for heart_disease:\n",
      "Chi2 Statistic: 85.72018267307116\n",
      "P-value: 2.0728641208465598e-20\n",
      "\n",
      "Chi-squared test for work_type:\n",
      "Chi2 Statistic: 33.03683615098006\n",
      "P-value: 1.1739161207026243e-06\n",
      "\n",
      "Chi-squared test for Residence_type:\n",
      "Chi2 Statistic: 0.1060056251501014\n",
      "P-value: 0.7447383243408976\n",
      "\n",
      "Chi-squared test for smoking_status:\n",
      "Chi2 Statistic: 28.024384841599105\n",
      "P-value: 3.589483013714272e-06\n",
      "\n"
     ]
    }
   ],
   "source": [
    "categorical_variables = ['gender', 'hypertension', 'heart_disease', 'work_type', 'Residence_type', 'smoking_status']\n",
    "\n",
    "for var in categorical_variables:\n",
    "    contingency_table = pd.crosstab(df['stroke'], df[var])\n",
    "    chi2, p, dof, expected = chi2_contingency(contingency_table)\n",
    "    print(f\"Chi-squared test for {var}:\")\n",
    "    print(f\"Chi2 Statistic: {chi2}\")\n",
    "    print(f\"P-value: {p}\")\n",
    "    print(\"\")"
   ]
  },
  {
   "cell_type": "markdown",
   "id": "6d415c61",
   "metadata": {},
   "source": [
    "**Stroke** has a significant association power with:  \n",
    "- **Hypertension**, \n",
    "- **heart_disease**, \n",
    "- **work_type** and \n",
    "- **smoking_status**"
   ]
  },
  {
   "cell_type": "markdown",
   "id": "71a94c7d",
   "metadata": {},
   "source": [
    "## Supervised classification (with 1 feature)"
   ]
  },
  {
   "cell_type": "markdown",
   "id": "b971b908",
   "metadata": {},
   "source": [
    "- **Splitting the DataFrame into training and testing sets**,  \n",
    "- **Standardizing the features** using StandardScaler() to ensure they have a mean of 0 and a standard deviation of 1.\n",
    "- Testing data set = 20%"
   ]
  },
  {
   "cell_type": "code",
   "execution_count": null,
   "id": "0463f3f5-3c74-492a-aafc-f0fb9b59458e",
   "metadata": {},
   "outputs": [],
   "source": []
  },
  {
   "cell_type": "code",
   "execution_count": null,
   "id": "aaf39602-c64a-4c24-a46b-215b8ead7ce2",
   "metadata": {},
   "outputs": [],
   "source": []
  },
  {
   "cell_type": "code",
   "execution_count": null,
   "id": "9d84d6a6-139a-4267-a670-f4d1c91ab82f",
   "metadata": {},
   "outputs": [],
   "source": []
  },
  {
   "cell_type": "code",
   "execution_count": null,
   "id": "afa1b665-cf0e-4efa-9651-42f03ffe5789",
   "metadata": {},
   "outputs": [],
   "source": []
  },
  {
   "cell_type": "code",
   "execution_count": null,
   "id": "3a4aaaef-6335-4965-8487-8d921acbe3ef",
   "metadata": {},
   "outputs": [],
   "source": []
  },
  {
   "cell_type": "code",
   "execution_count": null,
   "id": "d71da0f0-9c86-40ab-bd46-af7f232ecfa2",
   "metadata": {},
   "outputs": [],
   "source": []
  },
  {
   "cell_type": "code",
   "execution_count": null,
   "id": "8722987c-a62a-41d1-a8c8-451cab015ebe",
   "metadata": {},
   "outputs": [],
   "source": []
  },
  {
   "cell_type": "code",
   "execution_count": null,
   "id": "dfaf0606-bfaf-4951-affc-df0a3c4dceca",
   "metadata": {},
   "outputs": [],
   "source": []
  },
  {
   "cell_type": "code",
   "execution_count": 35,
   "id": "31628edc-89f3-4cd2-90ce-03d38c3acc90",
   "metadata": {},
   "outputs": [],
   "source": [
    "df_smoke=df.drop(['gender','heart_disease','hypertension','Residence_type'],axis=1)\n",
    "X_train_smoke, X_test_smoke, y_train_smoke, y_test_smoke = train_test_split(df_smoke.drop('smoking_status', axis=1),df_smoke['smoking_status'],test_size = .2)\n",
    "scaler_smoke = StandardScaler()\n",
    "X_train_smoke = scaler_smoke.fit_transform(X_train_smoke)\n",
    "X_test_smoke = scaler_smoke.transform(X_test_smoke)"
   ]
  },
  {
   "cell_type": "code",
   "execution_count": 36,
   "id": "06bc6010-f5a3-496b-817d-8b5a87331302",
   "metadata": {},
   "outputs": [
    {
     "data": {
      "image/png": "[encoded data removed]",
      "text/plain": [
       "<Figure size 1600x320 with 1 Axes>"
      ]
     },
     "metadata": {},
     "output_type": "display_data"
    }
   ],
   "source": [
    "rfc_smoke = RandomForestClassifier()\n",
    "rfe_smoke = RFE(estimator=rfc_smoke, step=1, n_features_to_select = 1)\n",
    "rfe_smoke.fit(X_train_smoke, y_train_smoke)\n",
    "mask_smoke = rfe_smoke.get_support()\n",
    "plt.matshow(mask_smoke.reshape(1,-1), cmap = 'gray_r')\n",
    "plt.xlabel('Axe des features');"
   ]
  },
  {
   "cell_type": "code",
   "execution_count": 37,
   "id": "4adf4364-e717-4af7-9890-c562f4e311f9",
   "metadata": {},
   "outputs": [
    {
     "data": {
      "image/png": "[encoded data removed]",
      "text/plain": [
       "<Figure size 1600x320 with 1 Axes>"
      ]
     },
     "metadata": {},
     "output_type": "display_data"
    }
   ],
   "source": [
    "ranking_smoke = rfe_smoke.ranking_\n",
    "plt.matshow(ranking_smoke.reshape(1,-1), cmap = 'gray_r')\n",
    "plt.xlabel('Axe des features');\n",
    "plt.show();"
   ]
  },
  {
   "cell_type": "code",
   "execution_count": 38,
   "id": "27d8ee2a-8843-4ade-93b3-5afa1141507b",
   "metadata": {},
   "outputs": [
    {
     "data": {
      "text/html": [
       "<div>\n",
       "<style scoped>\n",
       "    .dataframe tbody tr th:only-of-type {\n",
       "        vertical-align: middle;\n",
       "    }\n",
       "\n",
       "    .dataframe tbody tr th {\n",
       "        vertical-align: top;\n",
       "    }\n",
       "\n",
       "    .dataframe thead th {\n",
       "        text-align: right;\n",
       "    }\n",
       "</style>\n",
       "<table border=\"1\" class=\"dataframe\">\n",
       "  <thead>\n",
       "    <tr style=\"text-align: right;\">\n",
       "      <th></th>\n",
       "      <th>gender</th>\n",
       "      <th>age</th>\n",
       "      <th>hypertension</th>\n",
       "      <th>heart_disease</th>\n",
       "      <th>work_type</th>\n",
       "      <th>Residence_type</th>\n",
       "      <th>avg_glucose_level</th>\n",
       "      <th>bmi</th>\n",
       "      <th>smoking_status</th>\n",
       "      <th>stroke</th>\n",
       "    </tr>\n",
       "  </thead>\n",
       "  <tbody>\n",
       "    <tr>\n",
       "      <th>0</th>\n",
       "      <td>1</td>\n",
       "      <td>67.0</td>\n",
       "      <td>0</td>\n",
       "      <td>1</td>\n",
       "      <td>2</td>\n",
       "      <td>1</td>\n",
       "      <td>228.69</td>\n",
       "      <td>36.6</td>\n",
       "      <td>1</td>\n",
       "      <td>1</td>\n",
       "    </tr>\n",
       "    <tr>\n",
       "      <th>2</th>\n",
       "      <td>1</td>\n",
       "      <td>80.0</td>\n",
       "      <td>0</td>\n",
       "      <td>1</td>\n",
       "      <td>2</td>\n",
       "      <td>0</td>\n",
       "      <td>105.92</td>\n",
       "      <td>32.5</td>\n",
       "      <td>2</td>\n",
       "      <td>1</td>\n",
       "    </tr>\n",
       "    <tr>\n",
       "      <th>3</th>\n",
       "      <td>0</td>\n",
       "      <td>49.0</td>\n",
       "      <td>0</td>\n",
       "      <td>0</td>\n",
       "      <td>2</td>\n",
       "      <td>1</td>\n",
       "      <td>171.23</td>\n",
       "      <td>34.4</td>\n",
       "      <td>3</td>\n",
       "      <td>1</td>\n",
       "    </tr>\n",
       "    <tr>\n",
       "      <th>4</th>\n",
       "      <td>0</td>\n",
       "      <td>79.0</td>\n",
       "      <td>1</td>\n",
       "      <td>0</td>\n",
       "      <td>3</td>\n",
       "      <td>0</td>\n",
       "      <td>174.12</td>\n",
       "      <td>24.0</td>\n",
       "      <td>2</td>\n",
       "      <td>1</td>\n",
       "    </tr>\n",
       "    <tr>\n",
       "      <th>5</th>\n",
       "      <td>1</td>\n",
       "      <td>81.0</td>\n",
       "      <td>0</td>\n",
       "      <td>0</td>\n",
       "      <td>2</td>\n",
       "      <td>1</td>\n",
       "      <td>186.21</td>\n",
       "      <td>29.0</td>\n",
       "      <td>1</td>\n",
       "      <td>1</td>\n",
       "    </tr>\n",
       "  </tbody>\n",
       "</table>\n",
       "</div>"
      ],
      "text/plain": [
       "   gender   age  hypertension  heart_disease  work_type  Residence_type  \\\n",
       "0       1  67.0             0              1          2               1   \n",
       "2       1  80.0             0              1          2               0   \n",
       "3       0  49.0             0              0          2               1   \n",
       "4       0  79.0             1              0          3               0   \n",
       "5       1  81.0             0              0          2               1   \n",
       "\n",
       "   avg_glucose_level   bmi  smoking_status  stroke  \n",
       "0             228.69  36.6               1       1  \n",
       "2             105.92  32.5               2       1  \n",
       "3             171.23  34.4               3       1  \n",
       "4             174.12  24.0               2       1  \n",
       "5             186.21  29.0               1       1  "
      ]
     },
     "execution_count": 38,
     "metadata": {},
     "output_type": "execute_result"
    }
   ],
   "source": [
    "df.head()"
   ]
  },
  {
   "cell_type": "code",
   "execution_count": null,
   "id": "14299b01-70b0-46fb-ab30-98a8579f7907",
   "metadata": {},
   "outputs": [],
   "source": []
  },
  {
   "cell_type": "code",
   "execution_count": null,
   "id": "70faed0d-c6e6-46a0-926a-4aedc54361f8",
   "metadata": {},
   "outputs": [],
   "source": []
  },
  {
   "cell_type": "code",
   "execution_count": null,
   "id": "f43dfc79-6cde-4a57-bd9c-78dbefb20557",
   "metadata": {},
   "outputs": [],
   "source": []
  },
  {
   "cell_type": "code",
   "execution_count": null,
   "id": "56455db7-3666-43e4-b720-c19ceb56ccfd",
   "metadata": {},
   "outputs": [],
   "source": [
    "\n",
    "\n",
    "\n",
    "\n"
   ]
  },
  {
   "cell_type": "code",
   "execution_count": 39,
   "id": "42d4f166-c2f3-4797-b368-83c0ed8d310f",
   "metadata": {
    "scrolled": true
   },
   "outputs": [
    {
     "ename": "AttributeError",
     "evalue": "'GridSearchCV' object has no attribute 'best_params_'",
     "output_type": "error",
     "traceback": [
      "\u001b[1;31m---------------------------------------------------------------------------\u001b[0m",
      "\u001b[1;31mAttributeError\u001b[0m                            Traceback (most recent call last)",
      "Cell \u001b[1;32mIn[39], line 41\u001b[0m\n\u001b[0;32m     37\u001b[0m grid_clf \u001b[38;5;241m=\u001b[39m model_selection\u001b[38;5;241m.\u001b[39mGridSearchCV(estimator\u001b[38;5;241m=\u001b[39mclf, param_grid\u001b[38;5;241m=\u001b[39mparametres,verbose\u001b[38;5;241m=\u001b[39m\u001b[38;5;241m3\u001b[39m)\n\u001b[0;32m     39\u001b[0m \u001b[38;5;66;03m#grille = grid_clf.fit(X_train_smoke,y_train_smoke)\u001b[39;00m\n\u001b[1;32m---> 41\u001b[0m \u001b[38;5;28mprint\u001b[39m(grid_clf\u001b[38;5;241m.\u001b[39mbest_params_)\n\u001b[0;32m     43\u001b[0m clf \u001b[38;5;241m=\u001b[39m svm\u001b[38;5;241m.\u001b[39mSVC(C\u001b[38;5;241m=\u001b[39m\u001b[38;5;241m0.1\u001b[39m ,gamma\u001b[38;5;241m=\u001b[39m\u001b[38;5;241m0.001\u001b[39m,  kernel\u001b[38;5;241m=\u001b[39m\u001b[38;5;124m'\u001b[39m\u001b[38;5;124mrbf\u001b[39m\u001b[38;5;124m'\u001b[39m)\n\u001b[0;32m     44\u001b[0m clf\u001b[38;5;241m.\u001b[39mfit(X_train_smoke, y_train_smoke)\n",
      "\u001b[1;31mAttributeError\u001b[0m: 'GridSearchCV' object has no attribute 'best_params_'"
     ]
    }
   ],
   "source": [
    "from sklearn import model_selection\n",
    "from sklearn import neighbors\n",
    "from sklearn import svm\n",
    "clf = svm.SVC(gamma=0.01,  kernel='poly')\n",
    "\n",
    "df_smoke=df.drop(['gender','heart_disease','hypertension','Residence_type'],axis=1)\n",
    "df_smoke = df_smoke[df_smoke.smoking_status != 0]\n",
    "X_train_smoke, X_test_smoke, y_train_smoke, y_test_smoke = train_test_split(df_smoke.drop('smoking_status', axis=1),df_smoke['smoking_status'],test_size = .2)\n",
    "\n",
    "scaler_smoke = StandardScaler()\n",
    "X_train_smoke = scaler_smoke.fit_transform(X_train_smoke)\n",
    "X_test_smoke = scaler_smoke.transform(X_test_smoke)\n",
    "\n",
    "score_minko = []\n",
    "score_man = []\n",
    "score_cheb = []\n",
    "\n",
    "for k in range(1, 41):\n",
    "    knn = neighbors.KNeighborsClassifier(n_neighbors=k)\n",
    "    knn.fit(X_train_smoke, y_train_smoke)\n",
    "    score_minko.append(knn.score(X_test_smoke, y_test_smoke))\n",
    "\n",
    "for k in range(1, 41):\n",
    "    knn = neighbors.KNeighborsClassifier(n_neighbors=k, metric='manhattan')\n",
    "    knn.fit(X_train_smoke, y_train_smoke)\n",
    "    score_man.append(knn.score(X_test_smoke, y_test_smoke))\n",
    "    \n",
    "for k in range(1, 41):\n",
    "    knn = neighbors.KNeighborsClassifier(n_neighbors=k, metric='chebyshev')\n",
    "    knn.fit(X_train_smoke, y_train_smoke)\n",
    "    score_cheb.append(knn.score(X_test_smoke, y_test_smoke))\n",
    "    \n",
    "\n",
    "\n",
    "parametres = {'C':[0.1,1,10], 'kernel':['rbf','linear', 'poly'], 'gamma':[0.001, 0.1, 0.5]}\n",
    "\n",
    "grid_clf = model_selection.GridSearchCV(estimator=clf, param_grid=parametres,verbose=3)\n",
    "\n",
    "#grille = grid_clf.fit(X_train_smoke,y_train_smoke)\n",
    "\n",
    "print(grid_clf.best_params_)\n",
    "\n",
    "clf = svm.SVC(C=0.1 ,gamma=0.001,  kernel='rbf')\n",
    "clf.fit(X_train_smoke, y_train_smoke)\n",
    "\n"
   ]
  },
  {
   "cell_type": "code",
   "execution_count": null,
   "id": "61bc3870-3c98-4682-8c22-e046f5c6979c",
   "metadata": {},
   "outputs": [],
   "source": [
    "import matplotlib.pyplot as plt\n",
    "%matplotlib inline\n",
    "\n",
    "plt.plot(range(1, 41), score_minko, color='blue', linestyle='dashed', lw=2, label='Minkowski')\n",
    "plt.plot(range(1, 41), score_man, color='orange', linestyle='dashed', lw=2, label='Manhattan')\n",
    "plt.plot(range(1, 41), score_cheb, color='red', linestyle='dashed', lw=2, label='Chebyshev')\n",
    "plt.title('Score - valeur de K')  \n",
    "plt.xlabel('Valeur de K')  \n",
    "plt.ylabel('Accuracy') \n",
    "plt.legend();"
   ]
  },
  {
   "cell_type": "code",
   "execution_count": null,
   "id": "3ecccd3a-e302-491d-a590-427bba71b5d7",
   "metadata": {},
   "outputs": [],
   "source": []
  },
  {
   "cell_type": "code",
   "execution_count": null,
   "id": "357517ba-271b-46a8-9da9-a06f2c70e9be",
   "metadata": {},
   "outputs": [],
   "source": [
    "rfc=RandomForestClassifier(random_state=42)\n",
    "param_grid = { \n",
    "    'n_estimators': [200, 500],\n",
    "    'max_features': ['sqrt', 'log2'],\n",
    "    'max_depth' : [4,5,6,7,8],\n",
    "    'criterion' :['gini', 'entropy']\n",
    "}\n",
    "CV_rfc = GridSearchCV(estimator=rfc, param_grid=param_grid, cv= 5)\n",
    "CV_rfc.fit(X_train, y_train)"
   ]
  },
  {
   "cell_type": "code",
   "execution_count": null,
   "id": "a81dd2f5-ddcf-44fe-995e-c34d2a0d72d4",
   "metadata": {},
   "outputs": [],
   "source": [
    "CV_rfc.best_params_"
   ]
  },
  {
   "cell_type": "code",
   "execution_count": null,
   "id": "4561a2cf-8a2e-4bf3-939f-9e0ce35468e6",
   "metadata": {},
   "outputs": [],
   "source": [
    "LR=LogisticRegression(random_state=42)\n",
    "param_grid = {\n",
    "    'C': [0.001, 0.01, 0.1, 1, 10, 100],\n",
    "    'penalty': ['l2'],\n",
    "    'max_iter' : [100,300,600,1000]\n",
    "}\n",
    "CV_rfc = GridSearchCV(estimator=LR, param_grid=param_grid, cv= 5)\n",
    "CV_rfc.fit(X_train, y_train)"
   ]
  },
  {
   "cell_type": "code",
   "execution_count": null,
   "id": "219313c8-68d6-4e8f-a322-03b8b8c0ae4e",
   "metadata": {},
   "outputs": [],
   "source": [
    "CV_rfc.best_params_"
   ]
  },
  {
   "cell_type": "code",
   "execution_count": null,
   "id": "9959b24e-d9cc-4adc-b4f7-2a2386e13af5",
   "metadata": {},
   "outputs": [],
   "source": []
  },
  {
   "cell_type": "code",
   "execution_count": null,
   "id": "fe559e83-f9bf-4571-9bb1-c7e6d8b33f65",
   "metadata": {},
   "outputs": [],
   "source": [
    "from sklearn.model_selection import GridSearchCV\n",
    "from sklearn.ensemble import VotingClassifier, StackingClassifier\n",
    "from sklearn.model_selection import train_test_split, KFold, cross_validate\n",
    "from sklearn.metrics import f1_score\n",
    "from sklearn.linear_model import LogisticRegression\n",
    "from sklearn.ensemble import RandomForestClassifier\n",
    "from sklearn.neighbors import KNeighborsClassifier\n",
    "from sklearn.tree import DecisionTreeClassifier\n",
    "\n",
    "df_smoke=df.drop(['gender','heart_disease','hypertension','Residence_type'],axis=1)\n",
    "df_smoke = df_smoke[df_smoke.smoking_status != 0]\n",
    "X_train, X_test, y_train, y_test = train_test_split(df_smoke.drop('smoking_status', axis=1),df_smoke['smoking_status'],test_size = .2)\n",
    "\n",
    "scaler_smoke = StandardScaler()\n",
    "X_train = scaler_smoke.fit_transform(X_train)\n",
    "X_test = scaler_smoke.transform(X_test)\n",
    "from sklearn.model_selection import GridSearchCV\n",
    "\n",
    "param_grid = {'max_features': ['sqrt', 'log2'],\n",
    "              'ccp_alpha': [0.1, .01, .001],\n",
    "              'max_depth' : [5, 6, 7, 8, 9],\n",
    "              'criterion' :['gini', 'entropy']\n",
    "             }\n",
    "tree_clas = DecisionTreeClassifier(random_state=1024)\n",
    "grid_search = GridSearchCV(estimator=tree_clas, param_grid=param_grid, cv=5, verbose=True)\n",
    "grid_search.fit(X_train, y_train)"
   ]
  },
  {
   "cell_type": "code",
   "execution_count": null,
   "id": "293616e5-198d-4f89-97fd-4aca54e0bb0f",
   "metadata": {},
   "outputs": [],
   "source": [
    "grid_search.best_params_"
   ]
  },
  {
   "cell_type": "code",
   "execution_count": null,
   "id": "eef30822-5de8-4699-8d7f-2b0d0ddfea98",
   "metadata": {},
   "outputs": [],
   "source": []
  },
  {
   "cell_type": "code",
   "execution_count": null,
   "id": "7c693815-b3e4-4160-88d3-62d27ee19ad8",
   "metadata": {},
   "outputs": [],
   "source": []
  },
  {
   "cell_type": "code",
   "execution_count": 46,
   "id": "46e6bd29-bb20-4c99-82f2-a9f3b24b8734",
   "metadata": {},
   "outputs": [
    {
     "name": "stdout",
     "output_type": "stream",
     "text": [
      "[KNN]: \n",
      " Accuracy: 0.42 (+/- 0.01) F1 score: 0.41 (+/- 0.01)\n",
      "[Random Forest]: \n",
      " Accuracy: 0.44 (+/- 0.02) F1 score: 0.41 (+/- 0.03)\n",
      "[Logistic Regression]: \n",
      " Accuracy: 0.39 (+/- 0.01) F1 score: 0.37 (+/- 0.03)\n",
      "[SVC]: \n",
      " Accuracy: 0.33 (+/- 0.01) F1 score: 0.16 (+/- 0.01)\n",
      "[Decision Tree]: \n",
      " Accuracy: 0.44 (+/- 0.02) F1 score: 0.42 (+/- 0.02)\n",
      "--------------------------------------------\n",
      "[StackingClassifier]: \n",
      " Accuracy: 0.33 (+/- 0.01)\n",
      " F1 score: 0.16 (+/- 0.01)\n"
     ]
    }
   ],
   "source": [
    "from sklearn.model_selection import GridSearchCV\n",
    "from sklearn.ensemble import VotingClassifier, StackingClassifier\n",
    "from sklearn.model_selection import train_test_split, KFold, cross_validate\n",
    "from sklearn.metrics import f1_score\n",
    "from sklearn.linear_model import LogisticRegression\n",
    "from sklearn.ensemble import RandomForestClassifier\n",
    "from sklearn.neighbors import KNeighborsClassifier\n",
    "from sklearn.tree import DecisionTreeClassifier\n",
    "from imblearn.under_sampling import RandomUnderSampler\n",
    "from imblearn.over_sampling import RandomOverSampler\n",
    "from imblearn.over_sampling import SMOTE, ADASYN\n",
    "\n",
    "\n",
    "\n",
    "df_smoke=df.drop(['gender','heart_disease','hypertension','Residence_type'],axis=1)\n",
    "df_smoke = df_smoke[df_smoke.smoking_status != 0]\n",
    "X_train, X_test, y_train, y_test = train_test_split(df_smoke.drop('smoking_status', axis=1),df_smoke['smoking_status'],test_size = .2)\n",
    "\n",
    "scaler_smoke = StandardScaler()\n",
    "X_train = scaler_smoke.fit_transform(X_train)\n",
    "X_test = scaler_smoke.transform(X_test)\n",
    "\n",
    "\"\"\"\n",
    "X_train, y_train = ADASYN().fit_resample(X_train, y_train)\n",
    "X_train, y_train = SMOTE().fit_resample(X_train, y_train)\n",
    "print(y_train.value_counts())\n",
    "over = RandomOverSampler(sampling_strategy={2:1500,1:800,3:800})\n",
    "under = RandomUnderSampler(sampling_strategy={2:800,1:800,3:800})\n",
    "X_train, y_train = over.fit_resample(X_train, y_train)\n",
    "X_train, y_train = under.fit_resample(X_train, y_train)\n",
    "print(y_train.value_counts())\n",
    "\"\"\"\n",
    "\n",
    "clf1 = KNeighborsClassifier(n_neighbors=40, metric='chebyshev')\n",
    "clf2 = RandomForestClassifier(criterion='entropy',max_depth=6,max_features='sqrt',n_estimators=500)\n",
    "clf3 = LogisticRegression(max_iter=100,C=0.001,penalty='l2')\n",
    "#clf4 = svm.SVC(C=0.1 ,gamma=0.001,  kernel='rbf')\n",
    "clf5 = DecisionTreeClassifier(ccp_alpha= 0.1,criterion='gini', max_depth= 5, max_features= 'sqrt')\n",
    "\n",
    "vclf = VotingClassifier(estimators=[('knn', clf1), ('rf', clf2), ('lr', clf3), ('DT', clf5)], voting='soft')\n",
    "\n",
    "cv3 = KFold(n_splits=3, random_state=111, shuffle=True)\n",
    "\n",
    "for clf, label in zip([clf1, clf2, clf3, clf5, vclf], ['KNN', 'Random Forest', 'Logistic Regression', 'SVC','Decision Tree', 'Voting Classifier']):\n",
    "    scores = cross_validate(clf, X_train, y_train, cv=cv3, scoring=['accuracy','f1_weighted'])\n",
    "    print(\"[%s]: \\n Accuracy: %0.2f (+/- %0.2f)\" % (label, scores['test_accuracy'].mean(), scores['test_accuracy'].std()),\n",
    "          \"F1 score: %0.2f (+/- %0.2f)\" % (scores['test_f1_weighted'].mean(), scores['test_f1_weighted'].std()))\n",
    "\n",
    "print(\"--------------------------------------------\")\n",
    "\n",
    "sclf = StackingClassifier(estimators=[('knn', clf1), ('rf', clf2), ('lr', clf3),('DT',clf5)], final_estimator=clf5)\n",
    "\n",
    "scores = cross_validate(sclf, X_train, y_train, cv=cv3, scoring=['accuracy', 'f1_weighted'])\n",
    "\n",
    "print(\"[StackingClassifier]: \\n Accuracy: %0.2f (+/- %0.2f)\\n\" % (scores['test_accuracy'].mean(), scores['test_accuracy'].std()),\n",
    "      \"F1 score: %0.2f (+/- %0.2f)\" % (scores['test_f1_weighted'].mean(), scores['test_f1_weighted'].std()))"
   ]
  },
  {
   "cell_type": "code",
   "execution_count": 43,
   "id": "64c9fdde-aae5-46bc-8264-56182109345a",
   "metadata": {},
   "outputs": [
    {
     "name": "stdout",
     "output_type": "stream",
     "text": [
      "Acc : 0.36642335766423356\n",
      "Acc : 0.34744525547445254\n",
      "Acc : 0.4131386861313869\n",
      "Acc : 0.23503649635036497\n",
      "Acc : 0.3562043795620438\n",
      "Acc : 0.23503649635036497\n"
     ]
    }
   ],
   "source": [
    "clf1.fit(X_train, y_train)\n",
    "clf2.fit(X_train, y_train)\n",
    "clf3.fit(X_train, y_train)\n",
    "clf5.fit(X_train, y_train)\n",
    "vclf.fit(X_train, y_train)\n",
    "sclf.fit(X_train, y_train)\n",
    "\n",
    "print(\"Acc :\", clf1.score(X_test, y_test))\n",
    "print(\"Acc :\", clf2.score(X_test, y_test))\n",
    "print(\"Acc :\", clf3.score(X_test, y_test))\n",
    "print(\"Acc :\", clf5.score(X_test, y_test))\n",
    "print(\"Acc :\", vclf.score(X_test, y_test))\n",
    "print(\"Acc :\", sclf.score(X_test, y_test))"
   ]
  },
  {
   "cell_type": "code",
   "execution_count": null,
   "id": "627fb427-26df-44ef-a878-594588b6cf8a",
   "metadata": {},
   "outputs": [],
   "source": [
    "y_pred = vclf.predict(X_test)\n",
    "pd.crosstab(y_test, y_pred, rownames=['Classe réelle'], colnames=['Classe prédite'])"
   ]
  },
  {
   "cell_type": "code",
   "execution_count": null,
   "id": "ae821652-5ba5-4445-8ec3-6fa4731410f5",
   "metadata": {},
   "outputs": [],
   "source": [
    "from sklearn.metrics import classification_report\n",
    "print(classification_report(y_test, y_pred))"
   ]
  },
  {
   "cell_type": "code",
   "execution_count": null,
   "id": "7164e047-820f-4fda-8c53-8927eca23bfe",
   "metadata": {},
   "outputs": [],
   "source": [
    "clf1 : acc=0.46  rec = 0.51  F1 = 0.40\n",
    "clf2 : acc=0.60  rec = 0.55  F1 = 0.40\n",
    "vclf : acc=0.60  rec = 0.55  F1 = 0.40"
   ]
  },
  {
   "cell_type": "code",
   "execution_count": null,
   "id": "6f62068d-e337-45b9-a438-114661323a56",
   "metadata": {},
   "outputs": [],
   "source": []
  },
  {
   "cell_type": "code",
   "execution_count": null,
   "id": "284db381-2605-4874-92b4-ddea7e9c78d9",
   "metadata": {},
   "outputs": [],
   "source": []
  },
  {
   "cell_type": "code",
   "execution_count": null,
   "id": "513c2264-98d5-4959-8f5f-0c67c2518934",
   "metadata": {},
   "outputs": [],
   "source": []
  },
  {
   "cell_type": "code",
   "execution_count": null,
   "id": "c6123f72-5ef0-47ab-94c6-4febdbd282c1",
   "metadata": {},
   "outputs": [],
   "source": [
    "print(y_train.value_counts())"
   ]
  },
  {
   "cell_type": "code",
   "execution_count": null,
   "id": "bc07aec2-1c38-4adc-be57-68202326e1d6",
   "metadata": {},
   "outputs": [],
   "source": []
  },
  {
   "cell_type": "code",
   "execution_count": null,
   "id": "01d98b48-b9ba-4c64-9779-9f02679926f7",
   "metadata": {},
   "outputs": [],
   "source": []
  },
  {
   "cell_type": "code",
   "execution_count": null,
   "id": "1a756e7d-167b-419a-af29-27b573e7b038",
   "metadata": {},
   "outputs": [],
   "source": []
  },
  {
   "cell_type": "code",
   "execution_count": null,
   "id": "fc9b0504-0b05-4b54-81f5-2b59c874fb16",
   "metadata": {},
   "outputs": [],
   "source": []
  },
  {
   "cell_type": "code",
   "execution_count": null,
   "id": "27fa07c2-7699-4bee-b669-840ba0e90302",
   "metadata": {},
   "outputs": [],
   "source": []
  },
  {
   "cell_type": "code",
   "execution_count": null,
   "id": "b99196d3-ca04-477a-b2a7-5aed642be59f",
   "metadata": {},
   "outputs": [],
   "source": []
  },
  {
   "cell_type": "code",
   "execution_count": null,
   "id": "1765c7ae-8630-4aea-b521-55a5ddaceb8c",
   "metadata": {},
   "outputs": [],
   "source": []
  },
  {
   "cell_type": "code",
   "execution_count": null,
   "id": "dc1c7746-52bf-4915-a657-58edc1a74622",
   "metadata": {},
   "outputs": [],
   "source": []
  },
  {
   "cell_type": "code",
   "execution_count": null,
   "id": "0f0a5388-28c2-4952-b3a3-2f6d2c9b3f1e",
   "metadata": {},
   "outputs": [],
   "source": [
    "X_train, X_test, y_train, y_test = train_test_split(df.drop('stroke', axis=1),df['stroke'],test_size = .2''', random_state=42''')\n",
    "scaler = StandardScaler()\n",
    "X_train = scaler.fit_transform(X_train)\n",
    "X_test = scaler.transform(X_test)"
   ]
  },
  {
   "cell_type": "markdown",
   "id": "e2e7e7fd",
   "metadata": {},
   "source": [
    "#### -- Random Forrest"
   ]
  },
  {
   "cell_type": "markdown",
   "id": "5df26cfe",
   "metadata": {},
   "source": [
    "##### Algorithm"
   ]
  },
  {
   "cell_type": "code",
   "execution_count": null,
   "id": "f62fe2f6",
   "metadata": {},
   "outputs": [],
   "source": [
    "df.head()"
   ]
  },
  {
   "cell_type": "code",
   "execution_count": null,
   "id": "bb07c304-c0b8-42ab-b8b4-9959bf180579",
   "metadata": {},
   "outputs": [],
   "source": [
    "rfc1 = RandomForestClassifier()\n",
    "rfe = RFE(estimator=rfc1, step=1, n_features_to_select = 1)\n",
    "rfe.fit(X_train, y_train)\n",
    "mask = rfe.get_support()\n",
    "plt.matshow(mask.reshape(1,-1), cmap = 'gray_r')\n",
    "plt.xlabel('Axe des features');\n"
   ]
  },
  {
   "cell_type": "code",
   "execution_count": null,
   "id": "f415afd7-9488-4d67-bc70-d9dd7ca8999b",
   "metadata": {},
   "outputs": [],
   "source": [
    "mask"
   ]
  },
  {
   "cell_type": "code",
   "execution_count": null,
   "id": "7b751018-ba84-49e9-bd33-70c7a2c9fd0d",
   "metadata": {},
   "outputs": [],
   "source": [
    "ranking = rfe.ranking_\n",
    "plt.matshow(ranking.reshape(1,-1), cmap = 'gray_r')\n",
    "plt.xlabel('Axe des features');\n",
    "plt.show();"
   ]
  },
  {
   "cell_type": "code",
   "execution_count": null,
   "id": "31415c91-315b-45fd-b1c4-168ad6984491",
   "metadata": {},
   "outputs": [],
   "source": [
    "df.head()"
   ]
  },
  {
   "cell_type": "markdown",
   "id": "b9ef9198",
   "metadata": {},
   "source": [
    "##### Evaluation"
   ]
  },
  {
   "cell_type": "code",
   "execution_count": null,
   "id": "cfce5f43-bdf8-4e62-8f66-4e42b74d39e2",
   "metadata": {},
   "outputs": [],
   "source": [
    "lm = LinearRegression()\n",
    "rfc = RandomForestClassifier()\n",
    "\n",
    "crossval = KFold(n_splits = 5, random_state = 2, shuffle = True)\n",
    "rfecv = RFECV(estimator=rfc, cv = crossval, step=1)\n",
    "rfecv.fit(X_train, y_train)\n",
    "\n",
    "mask = rfecv.get_support()\n",
    "plt.matshow(mask.reshape(1,-1), cmap = 'gray_r')\n",
    "plt.xlabel('Axe des features');\n",
    "plt.show();\n"
   ]
  },
  {
   "cell_type": "code",
   "execution_count": null,
   "id": "3b7b2714-d514-4f79-aab0-f4c7681e6d98",
   "metadata": {},
   "outputs": [],
   "source": []
  },
  {
   "cell_type": "code",
   "execution_count": null,
   "id": "b3b6b035-b03f-406a-b9f7-4f03ff163258",
   "metadata": {},
   "outputs": [],
   "source": [
    "plt.plot(rfecv.cv_results_['mean_test_score']);\n",
    "print(\"Nombre de features retenus :\", rfecv.n_features_)"
   ]
  },
  {
   "cell_type": "code",
   "execution_count": null,
   "id": "6ebc2ddc-7c08-47d2-b048-783d027eca92",
   "metadata": {},
   "outputs": [],
   "source": [
    "rfecv.cv_results_['mean_test_score']"
   ]
  },
  {
   "cell_type": "code",
   "execution_count": null,
   "id": "6865a59b-7c7c-4b57-8330-ac2600c8e626",
   "metadata": {},
   "outputs": [],
   "source": []
  },
  {
   "cell_type": "code",
   "execution_count": null,
   "id": "cb581750-63f3-49aa-b18b-277d9e0c9d19",
   "metadata": {},
   "outputs": [],
   "source": []
  },
  {
   "cell_type": "code",
   "execution_count": null,
   "id": "d544adec-6635-4291-9436-cabda7db94b8",
   "metadata": {},
   "outputs": [],
   "source": []
  },
  {
   "cell_type": "markdown",
   "id": "9f4dc3c8",
   "metadata": {},
   "source": [
    "#### -- Binary Logistic Regression"
   ]
  },
  {
   "cell_type": "markdown",
   "id": "dc0f9f08",
   "metadata": {},
   "source": [
    "##### Algorithm"
   ]
  },
  {
   "cell_type": "code",
   "execution_count": null,
   "id": "4f550f86-ca61-49dc-8853-3f994d4af125",
   "metadata": {},
   "outputs": [],
   "source": [
    "df.info()"
   ]
  },
  {
   "cell_type": "code",
   "execution_count": 68,
   "id": "ae752a4a-9775-43af-99ec-2ed2881328c2",
   "metadata": {},
   "outputs": [],
   "source": [
    "lr_X = df[['hypertension']] # independent variable\n",
    "lr_y = df['stroke'] # outcome variable\n",
    "\n",
    "# Split data into training and testing sets\n",
    "lr_X_train, lr_X_test, lr_y_train, lr_y_test = train_test_split(lr_X, lr_y, test_size=0.2, random_state=2)\n",
    "\n",
    "# Fit logistic regression model\n",
    "model = LogisticRegression()\n",
    "model.fit(lr_X_train, lr_y_train)\n",
    "\n",
    "# Predict stroke for test data\n",
    "lr_y_pred = model.predict(lr_X_test)\n"
   ]
  },
  {
   "cell_type": "markdown",
   "id": "adb97b6d",
   "metadata": {},
   "source": [
    "##### Evaluation"
   ]
  },
  {
   "cell_type": "markdown",
   "id": "689b4a02",
   "metadata": {},
   "source": [
    "Accuracy"
   ]
  },
  {
   "cell_type": "code",
   "execution_count": 70,
   "id": "987bb664-dd86-4eeb-a463-764df3c4824b",
   "metadata": {},
   "outputs": [
    {
     "name": "stdout",
     "output_type": "stream",
     "text": [
      "Accuracy: 0.949290060851927\n"
     ]
    }
   ],
   "source": [
    "lr_accuracy = accuracy_score(lr_y_test, lr_y_pred)\n",
    "print(\"Accuracy:\", lr_accuracy)"
   ]
  },
  {
   "cell_type": "markdown",
   "id": "3837bb91",
   "metadata": {},
   "source": [
    "An accuracy of approximately 93.81% suggests that the logistic regression model performs relatively well on the test data. However, accuracy alone may not provide a complete picture."
   ]
  },
  {
   "cell_type": "markdown",
   "id": "8c68aa47",
   "metadata": {},
   "source": [
    "Confusion matrix"
   ]
  },
  {
   "cell_type": "code",
   "execution_count": 71,
   "id": "5813876b-6d88-4beb-89f4-c52941e0d837",
   "metadata": {},
   "outputs": [
    {
     "data": {
      "image/png": "[encoded data removed]",
      "text/plain": [
       "<Figure size 500x300 with 1 Axes>"
      ]
     },
     "metadata": {},
     "output_type": "display_data"
    }
   ],
   "source": [
    "lr_conf_matrix = confusion_matrix(lr_y_test, lr_y_pred)\n",
    "plt.figure(figsize=(5, 3))\n",
    "sns.heatmap(lr_conf_matrix, annot=True, fmt=\"d\", cmap=\"Blues\", cbar=False)\n",
    "plt.xlabel('Predicted')\n",
    "plt.ylabel('Actual')\n",
    "plt.title('Confusion Matrix')\n",
    "plt.show()"
   ]
  },
  {
   "cell_type": "markdown",
   "id": "075d0ee8",
   "metadata": {},
   "source": [
    "**Confusion matrix indicates:**  \n",
    "True Negatives (TN): 925  \n",
    "False Negatives (FN): 0  \n",
    "True Positives (TP): 0  \n",
    "False Positives (FP): 61"
   ]
  },
  {
   "cell_type": "markdown",
   "id": "40704741",
   "metadata": {},
   "source": [
    "A confusion matrix with no true positives (TP) suggests that the model predicted all instances as the negative class (no stroke) and did not predict any instances as the positive class (stroke). This could indicate a **problem with class imbalance**."
   ]
  },
  {
   "cell_type": "markdown",
   "id": "cd684730",
   "metadata": {},
   "source": [
    "#### -- Other Algorithm"
   ]
  },
  {
   "cell_type": "markdown",
   "id": "ac8b53d3",
   "metadata": {},
   "source": [
    "##### Algorithm"
   ]
  },
  {
   "cell_type": "code",
   "execution_count": null,
   "id": "f86f1023-831d-49ab-8a86-726c48bed963",
   "metadata": {},
   "outputs": [],
   "source": []
  },
  {
   "cell_type": "markdown",
   "id": "e3614fdb",
   "metadata": {},
   "source": [
    "##### Evaluation"
   ]
  },
  {
   "cell_type": "code",
   "execution_count": null,
   "id": "53eccba8-5098-4dff-9281-c86b7a3c5a20",
   "metadata": {},
   "outputs": [],
   "source": []
  },
  {
   "cell_type": "markdown",
   "id": "95d59280",
   "metadata": {},
   "source": [
    "## Supervised classification (with multiple features)"
   ]
  },
  {
   "cell_type": "code",
   "execution_count": null,
   "id": "943ded32-5fd1-43ec-8a12-774351c27060",
   "metadata": {},
   "outputs": [],
   "source": []
  },
  {
   "cell_type": "markdown",
   "id": "7b94c4e6",
   "metadata": {},
   "source": [
    "## Notes"
   ]
  },
  {
   "cell_type": "code",
   "execution_count": null,
   "id": "bed1aeaf-2741-44f9-bfc0-17707d940d29",
   "metadata": {},
   "outputs": [],
   "source": [
    "#séparer correlation variable continu/discontinu et pearson ou dautre metrics"
   ]
  },
  {
   "cell_type": "code",
   "execution_count": null,
   "id": "765b6e45-a6e7-4c3c-8dbf-649112e67d98",
   "metadata": {},
   "outputs": [],
   "source": [
    "#fumeur unknown : cb sont stroke ? si 0 ou très peu : delete !?"
   ]
  },
  {
   "cell_type": "code",
   "execution_count": null,
   "id": "428bbc8f-f08f-4e4f-ba93-ae497c6bf641",
   "metadata": {},
   "outputs": [],
   "source": [
    "#enelver enfant sous 8ans"
   ]
  }
 ],
 "metadata": {
  "kernelspec": {
   "display_name": "Python 3 (ipykernel)",
   "language": "python",
   "name": "python3"
  },
  "language_info": {
   "codemirror_mode": {
    "name": "ipython",
    "version": 3
   },
   "file_extension": ".py",
   "mimetype": "text/x-python",
   "name": "python",
   "nbconvert_exporter": "python",
   "pygments_lexer": "ipython3",
   "version": "3.11.8"
  }
 },
 "nbformat": 4,
 "nbformat_minor": 5
}
