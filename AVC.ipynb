{
 "cells": [
  {
   "cell_type": "markdown",
   "id": "403b7a5a",
   "metadata": {},
   "source": [
    "# stroke-alert"
   ]
  },
  {
   "cell_type": "markdown",
   "id": "a3c66932",
   "metadata": {},
   "source": [
    "**Predictable variable: stroke**  \n",
    "Aiming to early predict and alert the stroke risk based on individual's demographical or health data."
   ]
  },
  {
   "cell_type": "code",
   "execution_count": 1,
   "id": "be5bb47e-09bb-459c-adf0-b7f5ff9eb9f4",
   "metadata": {},
   "outputs": [],
   "source": [
    "import pandas as pd\n",
    "import matplotlib.pyplot as plt\n",
    "%matplotlib inline \n",
    "import seaborn as sns\n",
    "from sklearn.model_selection import train_test_split,KFold\n",
    "from sklearn.preprocessing import LabelEncoder,StandardScaler\n",
    "from sklearn.feature_selection import RFE,RFECV\n",
    "from sklearn.linear_model import LinearRegression\n",
    "from sklearn.ensemble import RandomForestClassifier\n",
    "from scipy.stats import pointbiserialr\n",
    "import numpy as np"
   ]
  },
  {
   "cell_type": "markdown",
   "id": "d884a100",
   "metadata": {},
   "source": [
    "Original data:"
   ]
  },
  {
   "cell_type": "code",
   "execution_count": 2,
   "id": "50a40458",
   "metadata": {},
   "outputs": [
    {
     "data": {
      "text/html": [
       "<div>\n",
       "<style scoped>\n",
       "    .dataframe tbody tr th:only-of-type {\n",
       "        vertical-align: middle;\n",
       "    }\n",
       "\n",
       "    .dataframe tbody tr th {\n",
       "        vertical-align: top;\n",
       "    }\n",
       "\n",
       "    .dataframe thead th {\n",
       "        text-align: right;\n",
       "    }\n",
       "</style>\n",
       "<table border=\"1\" class=\"dataframe\">\n",
       "  <thead>\n",
       "    <tr style=\"text-align: right;\">\n",
       "      <th></th>\n",
       "      <th>id</th>\n",
       "      <th>gender</th>\n",
       "      <th>age</th>\n",
       "      <th>hypertension</th>\n",
       "      <th>heart_disease</th>\n",
       "      <th>ever_married</th>\n",
       "      <th>work_type</th>\n",
       "      <th>Residence_type</th>\n",
       "      <th>avg_glucose_level</th>\n",
       "      <th>bmi</th>\n",
       "      <th>smoking_status</th>\n",
       "      <th>stroke</th>\n",
       "    </tr>\n",
       "  </thead>\n",
       "  <tbody>\n",
       "    <tr>\n",
       "      <th>0</th>\n",
       "      <td>9046</td>\n",
       "      <td>Male</td>\n",
       "      <td>67.0</td>\n",
       "      <td>0</td>\n",
       "      <td>1</td>\n",
       "      <td>Yes</td>\n",
       "      <td>Private</td>\n",
       "      <td>Urban</td>\n",
       "      <td>228.69</td>\n",
       "      <td>36.6</td>\n",
       "      <td>formerly smoked</td>\n",
       "      <td>1</td>\n",
       "    </tr>\n",
       "    <tr>\n",
       "      <th>1</th>\n",
       "      <td>51676</td>\n",
       "      <td>Female</td>\n",
       "      <td>61.0</td>\n",
       "      <td>0</td>\n",
       "      <td>0</td>\n",
       "      <td>Yes</td>\n",
       "      <td>Self-employed</td>\n",
       "      <td>Rural</td>\n",
       "      <td>202.21</td>\n",
       "      <td>NaN</td>\n",
       "      <td>never smoked</td>\n",
       "      <td>1</td>\n",
       "    </tr>\n",
       "    <tr>\n",
       "      <th>2</th>\n",
       "      <td>31112</td>\n",
       "      <td>Male</td>\n",
       "      <td>80.0</td>\n",
       "      <td>0</td>\n",
       "      <td>1</td>\n",
       "      <td>Yes</td>\n",
       "      <td>Private</td>\n",
       "      <td>Rural</td>\n",
       "      <td>105.92</td>\n",
       "      <td>32.5</td>\n",
       "      <td>never smoked</td>\n",
       "      <td>1</td>\n",
       "    </tr>\n",
       "    <tr>\n",
       "      <th>3</th>\n",
       "      <td>60182</td>\n",
       "      <td>Female</td>\n",
       "      <td>49.0</td>\n",
       "      <td>0</td>\n",
       "      <td>0</td>\n",
       "      <td>Yes</td>\n",
       "      <td>Private</td>\n",
       "      <td>Urban</td>\n",
       "      <td>171.23</td>\n",
       "      <td>34.4</td>\n",
       "      <td>smokes</td>\n",
       "      <td>1</td>\n",
       "    </tr>\n",
       "    <tr>\n",
       "      <th>4</th>\n",
       "      <td>1665</td>\n",
       "      <td>Female</td>\n",
       "      <td>79.0</td>\n",
       "      <td>1</td>\n",
       "      <td>0</td>\n",
       "      <td>Yes</td>\n",
       "      <td>Self-employed</td>\n",
       "      <td>Rural</td>\n",
       "      <td>174.12</td>\n",
       "      <td>24.0</td>\n",
       "      <td>never smoked</td>\n",
       "      <td>1</td>\n",
       "    </tr>\n",
       "  </tbody>\n",
       "</table>\n",
       "</div>"
      ],
      "text/plain": [
       "      id  gender   age  hypertension  heart_disease ever_married  \\\n",
       "0   9046    Male  67.0             0              1          Yes   \n",
       "1  51676  Female  61.0             0              0          Yes   \n",
       "2  31112    Male  80.0             0              1          Yes   \n",
       "3  60182  Female  49.0             0              0          Yes   \n",
       "4   1665  Female  79.0             1              0          Yes   \n",
       "\n",
       "       work_type Residence_type  avg_glucose_level   bmi   smoking_status  \\\n",
       "0        Private          Urban             228.69  36.6  formerly smoked   \n",
       "1  Self-employed          Rural             202.21   NaN     never smoked   \n",
       "2        Private          Rural             105.92  32.5     never smoked   \n",
       "3        Private          Urban             171.23  34.4           smokes   \n",
       "4  Self-employed          Rural             174.12  24.0     never smoked   \n",
       "\n",
       "   stroke  \n",
       "0       1  \n",
       "1       1  \n",
       "2       1  \n",
       "3       1  \n",
       "4       1  "
      ]
     },
     "execution_count": 2,
     "metadata": {},
     "output_type": "execute_result"
    }
   ],
   "source": [
    "df = pd.read_csv(\"AVC.csv\")\n",
    "df_original = df.copy()\n",
    "df.head()"
   ]
  },
  {
   "cell_type": "markdown",
   "id": "dbe0075f",
   "metadata": {},
   "source": [
    "## Data Cleaning"
   ]
  },
  {
   "cell_type": "code",
   "execution_count": 3,
   "id": "832503a9-ef68-4dbd-a659-4ff229f4c522",
   "metadata": {},
   "outputs": [
    {
     "name": "stdout",
     "output_type": "stream",
     "text": [
      "<class 'pandas.core.frame.DataFrame'>\n",
      "RangeIndex: 5110 entries, 0 to 5109\n",
      "Data columns (total 12 columns):\n",
      " #   Column             Non-Null Count  Dtype  \n",
      "---  ------             --------------  -----  \n",
      " 0   id                 5110 non-null   int64  \n",
      " 1   gender             5110 non-null   object \n",
      " 2   age                5110 non-null   float64\n",
      " 3   hypertension       5110 non-null   int64  \n",
      " 4   heart_disease      5110 non-null   int64  \n",
      " 5   ever_married       5110 non-null   object \n",
      " 6   work_type          5110 non-null   object \n",
      " 7   Residence_type     5110 non-null   object \n",
      " 8   avg_glucose_level  5110 non-null   float64\n",
      " 9   bmi                4909 non-null   float64\n",
      " 10  smoking_status     5110 non-null   object \n",
      " 11  stroke             5110 non-null   int64  \n",
      "dtypes: float64(3), int64(4), object(5)\n",
      "memory usage: 479.2+ KB\n"
     ]
    }
   ],
   "source": [
    "df.info()"
   ]
  },
  {
   "cell_type": "markdown",
   "id": "32b62034",
   "metadata": {},
   "source": [
    "### Initial data cleaning"
   ]
  },
  {
   "cell_type": "markdown",
   "id": "bae56e9e",
   "metadata": {},
   "source": [
    "Converting categorical variables to numerical representations"
   ]
  },
  {
   "cell_type": "code",
   "execution_count": 4,
   "id": "687a7021",
   "metadata": {},
   "outputs": [],
   "source": [
    "categorical_vars = ['gender', 'hypertension', 'heart_disease', 'ever_married',\n",
    "                    'work_type', 'Residence_type', 'smoking_status', 'stroke']\n",
    "\n",
    "# Apply label encoding to the categorical variables\n",
    "encoder = LabelEncoder()\n",
    "df[categorical_vars] = df[categorical_vars].apply(encoder.fit_transform)"
   ]
  },
  {
   "cell_type": "markdown",
   "id": "449477cc",
   "metadata": {},
   "source": [
    "Deleting columns:  \n",
    "- ID,  \n",
    "- ever_married\n",
    "\n",
    "Records:  \n",
    "- where BMI values are superior to 69"
   ]
  },
  {
   "cell_type": "markdown",
   "id": "1ed72993",
   "metadata": {},
   "source": [
    "Correlation between ever_married and age: **68%**"
   ]
  },
  {
   "cell_type": "code",
   "execution_count": 5,
   "id": "13b72fb3",
   "metadata": {},
   "outputs": [
    {
     "name": "stdout",
     "output_type": "stream",
     "text": [
      "Point-biserial correlation coefficients for age:\n",
      "ever_married: 0.6791 (p-value: 0.0000)\n"
     ]
    }
   ],
   "source": [
    "continuous_var = 'age'\n",
    "\n",
    "binary_var = 'ever_married'\n",
    "\n",
    "print(f'Point-biserial correlation coefficients for {continuous_var}:')\n",
    "correlation_coefficient, p_value = pointbiserialr(df[continuous_var], df[binary_var])\n",
    "print(f'{binary_var}: {correlation_coefficient:.4f} (p-value: {p_value:.4f})')\n"
   ]
  },
  {
   "cell_type": "markdown",
   "id": "dccee40e",
   "metadata": {},
   "source": [
    "Deleting columns ID, ever_married, records where BMI values are superior to 69:"
   ]
  },
  {
   "cell_type": "code",
   "execution_count": 6,
   "id": "c0ec9795-259f-4b13-a9f3-a62d5102186e",
   "metadata": {},
   "outputs": [],
   "source": [
    "df = df.drop('id', axis=1)\n",
    "df = df.drop('ever_married', axis=1)\n",
    "df = df.drop(df[df['bmi'] >= 69].index) #IMC de 59 correspond à 170cm 200 Kg, les valeurs max sont à 97,6 (abérant)"
   ]
  },
  {
   "cell_type": "markdown",
   "id": "33b79da8",
   "metadata": {},
   "source": [
    "Data records where BMI >= 69 (from original dataframe):"
   ]
  },
  {
   "cell_type": "code",
   "execution_count": 7,
   "id": "891f0256",
   "metadata": {},
   "outputs": [
    {
     "data": {
      "text/html": [
       "<div>\n",
       "<style scoped>\n",
       "    .dataframe tbody tr th:only-of-type {\n",
       "        vertical-align: middle;\n",
       "    }\n",
       "\n",
       "    .dataframe tbody tr th {\n",
       "        vertical-align: top;\n",
       "    }\n",
       "\n",
       "    .dataframe thead th {\n",
       "        text-align: right;\n",
       "    }\n",
       "</style>\n",
       "<table border=\"1\" class=\"dataframe\">\n",
       "  <thead>\n",
       "    <tr style=\"text-align: right;\">\n",
       "      <th></th>\n",
       "      <th>id</th>\n",
       "      <th>gender</th>\n",
       "      <th>age</th>\n",
       "      <th>hypertension</th>\n",
       "      <th>heart_disease</th>\n",
       "      <th>ever_married</th>\n",
       "      <th>work_type</th>\n",
       "      <th>Residence_type</th>\n",
       "      <th>avg_glucose_level</th>\n",
       "      <th>bmi</th>\n",
       "      <th>smoking_status</th>\n",
       "      <th>stroke</th>\n",
       "    </tr>\n",
       "  </thead>\n",
       "  <tbody>\n",
       "    <tr>\n",
       "      <th>2128</th>\n",
       "      <td>56420</td>\n",
       "      <td>Male</td>\n",
       "      <td>17.0</td>\n",
       "      <td>1</td>\n",
       "      <td>0</td>\n",
       "      <td>No</td>\n",
       "      <td>Private</td>\n",
       "      <td>Rural</td>\n",
       "      <td>61.67</td>\n",
       "      <td>97.6</td>\n",
       "      <td>Unknown</td>\n",
       "      <td>0</td>\n",
       "    </tr>\n",
       "    <tr>\n",
       "      <th>4209</th>\n",
       "      <td>51856</td>\n",
       "      <td>Male</td>\n",
       "      <td>38.0</td>\n",
       "      <td>1</td>\n",
       "      <td>0</td>\n",
       "      <td>Yes</td>\n",
       "      <td>Private</td>\n",
       "      <td>Rural</td>\n",
       "      <td>56.90</td>\n",
       "      <td>92.0</td>\n",
       "      <td>never smoked</td>\n",
       "      <td>0</td>\n",
       "    </tr>\n",
       "    <tr>\n",
       "      <th>928</th>\n",
       "      <td>41097</td>\n",
       "      <td>Female</td>\n",
       "      <td>23.0</td>\n",
       "      <td>1</td>\n",
       "      <td>0</td>\n",
       "      <td>No</td>\n",
       "      <td>Private</td>\n",
       "      <td>Urban</td>\n",
       "      <td>70.03</td>\n",
       "      <td>78.0</td>\n",
       "      <td>smokes</td>\n",
       "      <td>0</td>\n",
       "    </tr>\n",
       "    <tr>\n",
       "      <th>544</th>\n",
       "      <td>545</td>\n",
       "      <td>Male</td>\n",
       "      <td>42.0</td>\n",
       "      <td>0</td>\n",
       "      <td>0</td>\n",
       "      <td>Yes</td>\n",
       "      <td>Private</td>\n",
       "      <td>Rural</td>\n",
       "      <td>210.48</td>\n",
       "      <td>71.9</td>\n",
       "      <td>never smoked</td>\n",
       "      <td>0</td>\n",
       "    </tr>\n",
       "  </tbody>\n",
       "</table>\n",
       "</div>"
      ],
      "text/plain": [
       "         id  gender   age  hypertension  heart_disease ever_married work_type  \\\n",
       "2128  56420    Male  17.0             1              0           No   Private   \n",
       "4209  51856    Male  38.0             1              0          Yes   Private   \n",
       "928   41097  Female  23.0             1              0           No   Private   \n",
       "544     545    Male  42.0             0              0          Yes   Private   \n",
       "\n",
       "     Residence_type  avg_glucose_level   bmi smoking_status  stroke  \n",
       "2128          Rural              61.67  97.6        Unknown       0  \n",
       "4209          Rural              56.90  92.0   never smoked       0  \n",
       "928           Urban              70.03  78.0         smokes       0  \n",
       "544           Rural             210.48  71.9   never smoked       0  "
      ]
     },
     "execution_count": 7,
     "metadata": {},
     "output_type": "execute_result"
    }
   ],
   "source": [
    "high_bmi_df = df_original[(df_original['bmi'] >= 69)]\n",
    "high_bmi_df.sort_values(by='bmi', ascending=False)"
   ]
  },
  {
   "cell_type": "markdown",
   "id": "431ce2fa",
   "metadata": {},
   "source": [
    "Changing 'smoking_status' 0 ('Unknown') values to null:"
   ]
  },
  {
   "cell_type": "code",
   "execution_count": 8,
   "id": "6110ca7a",
   "metadata": {},
   "outputs": [],
   "source": [
    "# df['smoking_status'] = df['smoking_status'].replace(0, None)"
   ]
  },
  {
   "cell_type": "markdown",
   "id": "befaffba",
   "metadata": {},
   "source": [
    "### Gender"
   ]
  },
  {
   "cell_type": "code",
   "execution_count": 9,
   "id": "4e684eaa-518d-40a9-aa71-d4e2bd9814c7",
   "metadata": {},
   "outputs": [
    {
     "data": {
      "image/png": "[encoded data removed]",
      "text/plain": [
       "<Figure size 640x480 with 1 Axes>"
      ]
     },
     "metadata": {},
     "output_type": "display_data"
    }
   ],
   "source": [
    "df.gender.value_counts().plot(kind='bar')\n",
    "plt.show()"
   ]
  },
  {
   "cell_type": "markdown",
   "id": "51a04dae",
   "metadata": {},
   "source": [
    "Removing 1 data sample with gender 'Other' (2)"
   ]
  },
  {
   "cell_type": "code",
   "execution_count": 10,
   "id": "3ea80f2a",
   "metadata": {},
   "outputs": [],
   "source": [
    "df = df.drop(df[df['gender'] == 2].index)"
   ]
  },
  {
   "cell_type": "markdown",
   "id": "682fec51",
   "metadata": {},
   "source": [
    "### Residence type"
   ]
  },
  {
   "cell_type": "code",
   "execution_count": 11,
   "id": "6a90602a-8abb-4242-9613-70d43c91eabe",
   "metadata": {},
   "outputs": [
    {
     "data": {
      "image/png": "[encoded data removed]",
      "text/plain": [
       "<Figure size 640x480 with 1 Axes>"
      ]
     },
     "metadata": {},
     "output_type": "display_data"
    }
   ],
   "source": [
    "df.Residence_type.value_counts().plot(kind='bar')\n",
    "plt.show()"
   ]
  },
  {
   "cell_type": "markdown",
   "id": "14fd936c",
   "metadata": {},
   "source": [
    "### Work type"
   ]
  },
  {
   "cell_type": "code",
   "execution_count": 12,
   "id": "2ce4f466",
   "metadata": {},
   "outputs": [
    {
     "data": {
      "image/png": "[encoded data removed]",
      "text/plain": [
       "<Figure size 640x480 with 1 Axes>"
      ]
     },
     "metadata": {},
     "output_type": "display_data"
    }
   ],
   "source": [
    "df_original.work_type.value_counts().plot(kind='bar')\n",
    "plt.show()"
   ]
  },
  {
   "cell_type": "code",
   "execution_count": 13,
   "id": "4a5a7ef9-cb60-44be-bb92-0ebe144ac8dc",
   "metadata": {},
   "outputs": [
    {
     "data": {
      "image/png": "[encoded data removed]",
      "text/plain": [
       "<Figure size 640x480 with 1 Axes>"
      ]
     },
     "metadata": {},
     "output_type": "display_data"
    }
   ],
   "source": [
    "df.work_type.value_counts().plot(kind='bar')\n",
    "plt.show()"
   ]
  },
  {
   "cell_type": "markdown",
   "id": "ba22d016",
   "metadata": {},
   "source": [
    "### Smoking status"
   ]
  },
  {
   "cell_type": "markdown",
   "id": "03c181ab",
   "metadata": {},
   "source": [
    "Original data:"
   ]
  },
  {
   "cell_type": "code",
   "execution_count": 14,
   "id": "12fbde80",
   "metadata": {},
   "outputs": [
    {
     "data": {
      "image/png": "[encoded data removed]",
      "text/plain": [
       "<Figure size 640x480 with 1 Axes>"
      ]
     },
     "metadata": {},
     "output_type": "display_data"
    }
   ],
   "source": [
    "df_original.smoking_status.value_counts().plot(kind='bar')\n",
    "plt.show()"
   ]
  },
  {
   "cell_type": "code",
   "execution_count": 15,
   "id": "de656c4f",
   "metadata": {},
   "outputs": [
    {
     "data": {
      "image/png": "[encoded data removed]",
      "text/plain": [
       "<Figure size 640x480 with 1 Axes>"
      ]
     },
     "metadata": {},
     "output_type": "display_data"
    }
   ],
   "source": [
    "df.smoking_status.value_counts().plot(kind='bar')\n",
    "plt.show()"
   ]
  },
  {
   "cell_type": "markdown",
   "id": "01560d71",
   "metadata": {},
   "source": [
    "### Hypertension"
   ]
  },
  {
   "cell_type": "code",
   "execution_count": 16,
   "id": "4409fcea-b010-47af-9cd7-cc558fadf8c3",
   "metadata": {},
   "outputs": [
    {
     "data": {
      "image/png": "[encoded data removed]",
      "text/plain": [
       "<Figure size 640x480 with 1 Axes>"
      ]
     },
     "metadata": {},
     "output_type": "display_data"
    }
   ],
   "source": [
    "df.hypertension.value_counts().plot(kind='bar')\n",
    "plt.show()"
   ]
  },
  {
   "cell_type": "markdown",
   "id": "05d1b843",
   "metadata": {},
   "source": [
    "### Heart disease"
   ]
  },
  {
   "cell_type": "code",
   "execution_count": 17,
   "id": "6bebf3fb-c864-4482-b6a7-08228707042e",
   "metadata": {},
   "outputs": [
    {
     "data": {
      "image/png": "[encoded data removed]",
      "text/plain": [
       "<Figure size 640x480 with 1 Axes>"
      ]
     },
     "metadata": {},
     "output_type": "display_data"
    }
   ],
   "source": [
    "df.heart_disease.value_counts().plot(kind='bar')\n",
    "plt.show()"
   ]
  },
  {
   "cell_type": "markdown",
   "id": "cb77d704",
   "metadata": {},
   "source": [
    "### Stroke"
   ]
  },
  {
   "cell_type": "code",
   "execution_count": 18,
   "id": "0cab11f3",
   "metadata": {},
   "outputs": [
    {
     "data": {
      "image/png": "[encoded data removed]",
      "text/plain": [
       "<Figure size 640x480 with 1 Axes>"
      ]
     },
     "metadata": {},
     "output_type": "display_data"
    }
   ],
   "source": [
    "df.stroke.value_counts().plot(kind='bar')\n",
    "plt.show()"
   ]
  },
  {
   "cell_type": "markdown",
   "id": "3c2865f6",
   "metadata": {},
   "source": [
    "### Age"
   ]
  },
  {
   "cell_type": "markdown",
   "id": "c7c413a3",
   "metadata": {},
   "source": [
    "Data distribution:"
   ]
  },
  {
   "cell_type": "code",
   "execution_count": 19,
   "id": "9718aeff",
   "metadata": {},
   "outputs": [
    {
     "data": {
      "image/png": "[encoded data removed]",
      "text/plain": [
       "<Figure size 500x400 with 1 Axes>"
      ]
     },
     "metadata": {},
     "output_type": "display_data"
    }
   ],
   "source": [
    "plt.figure(figsize=(5, 4))\n",
    "plt.hist(df['age'], bins=41, color='lightblue', edgecolor='black')\n",
    "plt.title('Distribution of Data in Age')\n",
    "plt.xlabel('Unique Values')\n",
    "plt.ylabel('Frequency')\n",
    "plt.show()"
   ]
  },
  {
   "cell_type": "markdown",
   "id": "ed775d71",
   "metadata": {},
   "source": [
    "Calculating the histogram bin edges"
   ]
  },
  {
   "cell_type": "code",
   "execution_count": 20,
   "id": "c976dedb",
   "metadata": {},
   "outputs": [
    {
     "name": "stdout",
     "output_type": "stream",
     "text": [
      "Bin 1: Start: 0.08, End: 2.078048780487805\n",
      "Bin 2: Start: 2.078048780487805, End: 4.07609756097561\n",
      "Bin 3: Start: 4.07609756097561, End: 6.074146341463415\n",
      "Bin 4: Start: 6.074146341463415, End: 8.07219512195122\n",
      "Bin 5: Start: 8.07219512195122, End: 10.070243902439024\n",
      "Bin 6: Start: 10.070243902439024, End: 12.06829268292683\n",
      "Bin 7: Start: 12.06829268292683, End: 14.066341463414634\n",
      "Bin 8: Start: 14.066341463414634, End: 16.064390243902437\n",
      "Bin 9: Start: 16.064390243902437, End: 18.062439024390244\n",
      "Bin 10: Start: 18.062439024390244, End: 20.060487804878047\n",
      "Bin 11: Start: 20.060487804878047, End: 22.05853658536585\n",
      "Bin 12: Start: 22.05853658536585, End: 24.056585365853657\n",
      "Bin 13: Start: 24.056585365853657, End: 26.054634146341463\n",
      "Bin 14: Start: 26.054634146341463, End: 28.052682926829267\n",
      "Bin 15: Start: 28.052682926829267, End: 30.05073170731707\n",
      "Bin 16: Start: 30.05073170731707, End: 32.048780487804876\n",
      "Bin 17: Start: 32.048780487804876, End: 34.04682926829268\n",
      "Bin 18: Start: 34.04682926829268, End: 36.04487804878049\n",
      "Bin 19: Start: 36.04487804878049, End: 38.04292682926829\n",
      "Bin 20: Start: 38.04292682926829, End: 40.040975609756096\n",
      "Bin 21: Start: 40.040975609756096, End: 42.0390243902439\n",
      "Bin 22: Start: 42.0390243902439, End: 44.0370731707317\n",
      "Bin 23: Start: 44.0370731707317, End: 46.03512195121951\n",
      "Bin 24: Start: 46.03512195121951, End: 48.033170731707315\n",
      "Bin 25: Start: 48.033170731707315, End: 50.03121951219512\n",
      "Bin 26: Start: 50.03121951219512, End: 52.02926829268293\n",
      "Bin 27: Start: 52.02926829268293, End: 54.02731707317073\n",
      "Bin 28: Start: 54.02731707317073, End: 56.025365853658535\n",
      "Bin 29: Start: 56.025365853658535, End: 58.02341463414634\n",
      "Bin 30: Start: 58.02341463414634, End: 60.02146341463414\n",
      "Bin 31: Start: 60.02146341463414, End: 62.01951219512195\n",
      "Bin 32: Start: 62.01951219512195, End: 64.01756097560975\n",
      "Bin 33: Start: 64.01756097560975, End: 66.01560975609756\n",
      "Bin 34: Start: 66.01560975609756, End: 68.01365853658537\n",
      "Bin 35: Start: 68.01365853658537, End: 70.01170731707317\n",
      "Bin 36: Start: 70.01170731707317, End: 72.00975609756098\n",
      "Bin 37: Start: 72.00975609756098, End: 74.00780487804877\n",
      "Bin 38: Start: 74.00780487804877, End: 76.00585365853658\n",
      "Bin 39: Start: 76.00585365853658, End: 78.00390243902439\n",
      "Bin 40: Start: 78.00390243902439, End: 80.0019512195122\n",
      "Bin 41: Start: 80.0019512195122, End: 82.0\n"
     ]
    }
   ],
   "source": [
    "# Calculate histogram values and bin edges\n",
    "hist_values, bin_edges = np.histogram(df['age'], bins=41, range=(df['age'].min(), df['age'].max()))\n",
    "\n",
    "# Assign histogram bins to DataFrame\n",
    "df['age_histogram'] = np.digitize(df['age'], bins=bin_edges)\n",
    "\n",
    "# Print start and end points of each bin\n",
    "for i, (start, end) in enumerate(zip(bin_edges[:-1], bin_edges[1:])):\n",
    "    print(f'Bin {i + 1}: Start: {start}, End: {end}')"
   ]
  },
  {
   "cell_type": "markdown",
   "id": "3cda1bde",
   "metadata": {},
   "source": [
    "Age < 2.08 (first histogram bin) - values where stroke = 1: "
   ]
  },
  {
   "cell_type": "code",
   "execution_count": 21,
   "id": "7f9f8b63",
   "metadata": {},
   "outputs": [
    {
     "data": {
      "text/html": [
       "<div>\n",
       "<style scoped>\n",
       "    .dataframe tbody tr th:only-of-type {\n",
       "        vertical-align: middle;\n",
       "    }\n",
       "\n",
       "    .dataframe tbody tr th {\n",
       "        vertical-align: top;\n",
       "    }\n",
       "\n",
       "    .dataframe thead th {\n",
       "        text-align: right;\n",
       "    }\n",
       "</style>\n",
       "<table border=\"1\" class=\"dataframe\">\n",
       "  <thead>\n",
       "    <tr style=\"text-align: right;\">\n",
       "      <th></th>\n",
       "      <th>gender</th>\n",
       "      <th>age</th>\n",
       "      <th>hypertension</th>\n",
       "      <th>heart_disease</th>\n",
       "      <th>work_type</th>\n",
       "      <th>Residence_type</th>\n",
       "      <th>avg_glucose_level</th>\n",
       "      <th>bmi</th>\n",
       "      <th>smoking_status</th>\n",
       "      <th>stroke</th>\n",
       "      <th>age_histogram</th>\n",
       "    </tr>\n",
       "  </thead>\n",
       "  <tbody>\n",
       "    <tr>\n",
       "      <th>162</th>\n",
       "      <td>0</td>\n",
       "      <td>1.32</td>\n",
       "      <td>0</td>\n",
       "      <td>0</td>\n",
       "      <td>4</td>\n",
       "      <td>1</td>\n",
       "      <td>70.37</td>\n",
       "      <td>NaN</td>\n",
       "      <td>0</td>\n",
       "      <td>1</td>\n",
       "      <td>1</td>\n",
       "    </tr>\n",
       "  </tbody>\n",
       "</table>\n",
       "</div>"
      ],
      "text/plain": [
       "     gender   age  hypertension  heart_disease  work_type  Residence_type  \\\n",
       "162       0  1.32             0              0          4               1   \n",
       "\n",
       "     avg_glucose_level  bmi  smoking_status  stroke  age_histogram  \n",
       "162              70.37  NaN               0       1              1  "
      ]
     },
     "execution_count": 21,
     "metadata": {},
     "output_type": "execute_result"
    }
   ],
   "source": [
    "test_df = df[(df['age'] <= 2.08) & (df['stroke'] == 1)]\n",
    "test_df.sort_values(by='age', ascending=False)"
   ]
  },
  {
   "cell_type": "markdown",
   "id": "147db66c",
   "metadata": {},
   "source": [
    "Age < 2.08 (first histogram bin) - all values: "
   ]
  },
  {
   "cell_type": "code",
   "execution_count": 22,
   "id": "36814122",
   "metadata": {},
   "outputs": [
    {
     "data": {
      "text/html": [
       "<div>\n",
       "<style scoped>\n",
       "    .dataframe tbody tr th:only-of-type {\n",
       "        vertical-align: middle;\n",
       "    }\n",
       "\n",
       "    .dataframe tbody tr th {\n",
       "        vertical-align: top;\n",
       "    }\n",
       "\n",
       "    .dataframe thead th {\n",
       "        text-align: right;\n",
       "    }\n",
       "</style>\n",
       "<table border=\"1\" class=\"dataframe\">\n",
       "  <thead>\n",
       "    <tr style=\"text-align: right;\">\n",
       "      <th></th>\n",
       "      <th>gender</th>\n",
       "      <th>age</th>\n",
       "      <th>hypertension</th>\n",
       "      <th>heart_disease</th>\n",
       "      <th>work_type</th>\n",
       "      <th>Residence_type</th>\n",
       "      <th>avg_glucose_level</th>\n",
       "      <th>bmi</th>\n",
       "      <th>smoking_status</th>\n",
       "      <th>stroke</th>\n",
       "      <th>age_histogram</th>\n",
       "    </tr>\n",
       "  </thead>\n",
       "  <tbody>\n",
       "    <tr>\n",
       "      <th>2687</th>\n",
       "      <td>0</td>\n",
       "      <td>2.00</td>\n",
       "      <td>0</td>\n",
       "      <td>0</td>\n",
       "      <td>4</td>\n",
       "      <td>0</td>\n",
       "      <td>100.66</td>\n",
       "      <td>18.5</td>\n",
       "      <td>0</td>\n",
       "      <td>0</td>\n",
       "      <td>1</td>\n",
       "    </tr>\n",
       "    <tr>\n",
       "      <th>1371</th>\n",
       "      <td>1</td>\n",
       "      <td>2.00</td>\n",
       "      <td>0</td>\n",
       "      <td>0</td>\n",
       "      <td>4</td>\n",
       "      <td>1</td>\n",
       "      <td>94.75</td>\n",
       "      <td>18.0</td>\n",
       "      <td>0</td>\n",
       "      <td>0</td>\n",
       "      <td>1</td>\n",
       "    </tr>\n",
       "    <tr>\n",
       "      <th>3908</th>\n",
       "      <td>0</td>\n",
       "      <td>2.00</td>\n",
       "      <td>0</td>\n",
       "      <td>0</td>\n",
       "      <td>4</td>\n",
       "      <td>0</td>\n",
       "      <td>70.25</td>\n",
       "      <td>17.0</td>\n",
       "      <td>0</td>\n",
       "      <td>0</td>\n",
       "      <td>1</td>\n",
       "    </tr>\n",
       "    <tr>\n",
       "      <th>1990</th>\n",
       "      <td>1</td>\n",
       "      <td>2.00</td>\n",
       "      <td>0</td>\n",
       "      <td>0</td>\n",
       "      <td>4</td>\n",
       "      <td>1</td>\n",
       "      <td>112.92</td>\n",
       "      <td>18.4</td>\n",
       "      <td>0</td>\n",
       "      <td>0</td>\n",
       "      <td>1</td>\n",
       "    </tr>\n",
       "    <tr>\n",
       "      <th>4065</th>\n",
       "      <td>1</td>\n",
       "      <td>2.00</td>\n",
       "      <td>0</td>\n",
       "      <td>0</td>\n",
       "      <td>4</td>\n",
       "      <td>1</td>\n",
       "      <td>89.32</td>\n",
       "      <td>17.2</td>\n",
       "      <td>0</td>\n",
       "      <td>0</td>\n",
       "      <td>1</td>\n",
       "    </tr>\n",
       "    <tr>\n",
       "      <th>...</th>\n",
       "      <td>...</td>\n",
       "      <td>...</td>\n",
       "      <td>...</td>\n",
       "      <td>...</td>\n",
       "      <td>...</td>\n",
       "      <td>...</td>\n",
       "      <td>...</td>\n",
       "      <td>...</td>\n",
       "      <td>...</td>\n",
       "      <td>...</td>\n",
       "      <td>...</td>\n",
       "    </tr>\n",
       "    <tr>\n",
       "      <th>3968</th>\n",
       "      <td>1</td>\n",
       "      <td>0.16</td>\n",
       "      <td>0</td>\n",
       "      <td>0</td>\n",
       "      <td>4</td>\n",
       "      <td>0</td>\n",
       "      <td>69.79</td>\n",
       "      <td>13.0</td>\n",
       "      <td>0</td>\n",
       "      <td>0</td>\n",
       "      <td>1</td>\n",
       "    </tr>\n",
       "    <tr>\n",
       "      <th>3618</th>\n",
       "      <td>1</td>\n",
       "      <td>0.16</td>\n",
       "      <td>0</td>\n",
       "      <td>0</td>\n",
       "      <td>4</td>\n",
       "      <td>1</td>\n",
       "      <td>114.71</td>\n",
       "      <td>17.4</td>\n",
       "      <td>0</td>\n",
       "      <td>0</td>\n",
       "      <td>1</td>\n",
       "    </tr>\n",
       "    <tr>\n",
       "      <th>4021</th>\n",
       "      <td>1</td>\n",
       "      <td>0.16</td>\n",
       "      <td>0</td>\n",
       "      <td>0</td>\n",
       "      <td>4</td>\n",
       "      <td>1</td>\n",
       "      <td>109.52</td>\n",
       "      <td>13.9</td>\n",
       "      <td>0</td>\n",
       "      <td>0</td>\n",
       "      <td>1</td>\n",
       "    </tr>\n",
       "    <tr>\n",
       "      <th>1614</th>\n",
       "      <td>0</td>\n",
       "      <td>0.08</td>\n",
       "      <td>0</td>\n",
       "      <td>0</td>\n",
       "      <td>4</td>\n",
       "      <td>1</td>\n",
       "      <td>139.67</td>\n",
       "      <td>14.1</td>\n",
       "      <td>0</td>\n",
       "      <td>0</td>\n",
       "      <td>1</td>\n",
       "    </tr>\n",
       "    <tr>\n",
       "      <th>3295</th>\n",
       "      <td>1</td>\n",
       "      <td>0.08</td>\n",
       "      <td>0</td>\n",
       "      <td>0</td>\n",
       "      <td>4</td>\n",
       "      <td>0</td>\n",
       "      <td>70.33</td>\n",
       "      <td>16.9</td>\n",
       "      <td>0</td>\n",
       "      <td>0</td>\n",
       "      <td>1</td>\n",
       "    </tr>\n",
       "  </tbody>\n",
       "</table>\n",
       "<p>175 rows × 11 columns</p>\n",
       "</div>"
      ],
      "text/plain": [
       "      gender   age  hypertension  heart_disease  work_type  Residence_type  \\\n",
       "2687       0  2.00             0              0          4               0   \n",
       "1371       1  2.00             0              0          4               1   \n",
       "3908       0  2.00             0              0          4               0   \n",
       "1990       1  2.00             0              0          4               1   \n",
       "4065       1  2.00             0              0          4               1   \n",
       "...      ...   ...           ...            ...        ...             ...   \n",
       "3968       1  0.16             0              0          4               0   \n",
       "3618       1  0.16             0              0          4               1   \n",
       "4021       1  0.16             0              0          4               1   \n",
       "1614       0  0.08             0              0          4               1   \n",
       "3295       1  0.08             0              0          4               0   \n",
       "\n",
       "      avg_glucose_level   bmi  smoking_status  stroke  age_histogram  \n",
       "2687             100.66  18.5               0       0              1  \n",
       "1371              94.75  18.0               0       0              1  \n",
       "3908              70.25  17.0               0       0              1  \n",
       "1990             112.92  18.4               0       0              1  \n",
       "4065              89.32  17.2               0       0              1  \n",
       "...                 ...   ...             ...     ...            ...  \n",
       "3968              69.79  13.0               0       0              1  \n",
       "3618             114.71  17.4               0       0              1  \n",
       "4021             109.52  13.9               0       0              1  \n",
       "1614             139.67  14.1               0       0              1  \n",
       "3295              70.33  16.9               0       0              1  \n",
       "\n",
       "[175 rows x 11 columns]"
      ]
     },
     "execution_count": 22,
     "metadata": {},
     "output_type": "execute_result"
    }
   ],
   "source": [
    "test_df = df[(df['age'] <= 2.08)]\n",
    "test_df.sort_values(by='age', ascending=False)"
   ]
  },
  {
   "cell_type": "markdown",
   "id": "caab27ef",
   "metadata": {},
   "source": [
    "**Deleting the records where age < 2.08** (175 records)"
   ]
  },
  {
   "cell_type": "code",
   "execution_count": 23,
   "id": "2b208534",
   "metadata": {},
   "outputs": [],
   "source": [
    "df = df.drop(df[df['age'] <= 2.08].index)"
   ]
  },
  {
   "cell_type": "markdown",
   "id": "05cb34fb",
   "metadata": {},
   "source": [
    "## Correlation & Association"
   ]
  },
  {
   "cell_type": "markdown",
   "id": "95735d96",
   "metadata": {},
   "source": [
    "#### Continuous variables"
   ]
  },
  {
   "cell_type": "code",
   "execution_count": 24,
   "id": "69a4825b",
   "metadata": {},
   "outputs": [
    {
     "data": {
      "text/html": [
       "<div>\n",
       "<style scoped>\n",
       "    .dataframe tbody tr th:only-of-type {\n",
       "        vertical-align: middle;\n",
       "    }\n",
       "\n",
       "    .dataframe tbody tr th {\n",
       "        vertical-align: top;\n",
       "    }\n",
       "\n",
       "    .dataframe thead th {\n",
       "        text-align: right;\n",
       "    }\n",
       "</style>\n",
       "<table border=\"1\" class=\"dataframe\">\n",
       "  <thead>\n",
       "    <tr style=\"text-align: right;\">\n",
       "      <th></th>\n",
       "      <th>age</th>\n",
       "      <th>avg_glucose_level</th>\n",
       "      <th>bmi</th>\n",
       "    </tr>\n",
       "  </thead>\n",
       "  <tbody>\n",
       "    <tr>\n",
       "      <th>count</th>\n",
       "      <td>4930.000000</td>\n",
       "      <td>4930.000000</td>\n",
       "      <td>4735.000000</td>\n",
       "    </tr>\n",
       "    <tr>\n",
       "      <th>mean</th>\n",
       "      <td>44.725558</td>\n",
       "      <td>106.524576</td>\n",
       "      <td>29.211954</td>\n",
       "    </tr>\n",
       "    <tr>\n",
       "      <th>std</th>\n",
       "      <td>21.571810</td>\n",
       "      <td>45.724836</td>\n",
       "      <td>7.552102</td>\n",
       "    </tr>\n",
       "    <tr>\n",
       "      <th>min</th>\n",
       "      <td>3.000000</td>\n",
       "      <td>55.120000</td>\n",
       "      <td>11.300000</td>\n",
       "    </tr>\n",
       "    <tr>\n",
       "      <th>25%</th>\n",
       "      <td>28.000000</td>\n",
       "      <td>77.382500</td>\n",
       "      <td>24.050000</td>\n",
       "    </tr>\n",
       "    <tr>\n",
       "      <th>50%</th>\n",
       "      <td>46.000000</td>\n",
       "      <td>91.910000</td>\n",
       "      <td>28.300000</td>\n",
       "    </tr>\n",
       "    <tr>\n",
       "      <th>75%</th>\n",
       "      <td>61.000000</td>\n",
       "      <td>114.320000</td>\n",
       "      <td>33.300000</td>\n",
       "    </tr>\n",
       "    <tr>\n",
       "      <th>max</th>\n",
       "      <td>82.000000</td>\n",
       "      <td>271.740000</td>\n",
       "      <td>66.800000</td>\n",
       "    </tr>\n",
       "  </tbody>\n",
       "</table>\n",
       "</div>"
      ],
      "text/plain": [
       "               age  avg_glucose_level          bmi\n",
       "count  4930.000000        4930.000000  4735.000000\n",
       "mean     44.725558         106.524576    29.211954\n",
       "std      21.571810          45.724836     7.552102\n",
       "min       3.000000          55.120000    11.300000\n",
       "25%      28.000000          77.382500    24.050000\n",
       "50%      46.000000          91.910000    28.300000\n",
       "75%      61.000000         114.320000    33.300000\n",
       "max      82.000000         271.740000    66.800000"
      ]
     },
     "execution_count": 24,
     "metadata": {},
     "output_type": "execute_result"
    }
   ],
   "source": [
    "df[['age','avg_glucose_level','bmi']].describe()"
   ]
  },
  {
   "cell_type": "markdown",
   "id": "b73f6721",
   "metadata": {},
   "source": [
    "#### Categorical variables (binary & nominal)"
   ]
  },
  {
   "cell_type": "code",
   "execution_count": 25,
   "id": "ede6f8c1",
   "metadata": {},
   "outputs": [
    {
     "data": {
      "text/html": [
       "<div>\n",
       "<style scoped>\n",
       "    .dataframe tbody tr th:only-of-type {\n",
       "        vertical-align: middle;\n",
       "    }\n",
       "\n",
       "    .dataframe tbody tr th {\n",
       "        vertical-align: top;\n",
       "    }\n",
       "\n",
       "    .dataframe thead th {\n",
       "        text-align: right;\n",
       "    }\n",
       "</style>\n",
       "<table border=\"1\" class=\"dataframe\">\n",
       "  <thead>\n",
       "    <tr style=\"text-align: right;\">\n",
       "      <th></th>\n",
       "      <th>gender</th>\n",
       "      <th>hypertension</th>\n",
       "      <th>heart_disease</th>\n",
       "      <th>work_type</th>\n",
       "      <th>Residence_type</th>\n",
       "      <th>smoking_status</th>\n",
       "      <th>stroke</th>\n",
       "      <th>age_histogram</th>\n",
       "    </tr>\n",
       "  </thead>\n",
       "  <tbody>\n",
       "    <tr>\n",
       "      <th>0</th>\n",
       "      <td>1</td>\n",
       "      <td>0</td>\n",
       "      <td>1</td>\n",
       "      <td>2</td>\n",
       "      <td>1</td>\n",
       "      <td>1</td>\n",
       "      <td>1</td>\n",
       "      <td>34</td>\n",
       "    </tr>\n",
       "    <tr>\n",
       "      <th>1</th>\n",
       "      <td>0</td>\n",
       "      <td>0</td>\n",
       "      <td>0</td>\n",
       "      <td>3</td>\n",
       "      <td>0</td>\n",
       "      <td>2</td>\n",
       "      <td>1</td>\n",
       "      <td>31</td>\n",
       "    </tr>\n",
       "    <tr>\n",
       "      <th>2</th>\n",
       "      <td>1</td>\n",
       "      <td>0</td>\n",
       "      <td>1</td>\n",
       "      <td>2</td>\n",
       "      <td>0</td>\n",
       "      <td>2</td>\n",
       "      <td>1</td>\n",
       "      <td>40</td>\n",
       "    </tr>\n",
       "    <tr>\n",
       "      <th>3</th>\n",
       "      <td>0</td>\n",
       "      <td>0</td>\n",
       "      <td>0</td>\n",
       "      <td>2</td>\n",
       "      <td>1</td>\n",
       "      <td>3</td>\n",
       "      <td>1</td>\n",
       "      <td>25</td>\n",
       "    </tr>\n",
       "    <tr>\n",
       "      <th>4</th>\n",
       "      <td>0</td>\n",
       "      <td>1</td>\n",
       "      <td>0</td>\n",
       "      <td>3</td>\n",
       "      <td>0</td>\n",
       "      <td>2</td>\n",
       "      <td>1</td>\n",
       "      <td>40</td>\n",
       "    </tr>\n",
       "  </tbody>\n",
       "</table>\n",
       "</div>"
      ],
      "text/plain": [
       "   gender  hypertension  heart_disease  work_type  Residence_type  \\\n",
       "0       1             0              1          2               1   \n",
       "1       0             0              0          3               0   \n",
       "2       1             0              1          2               0   \n",
       "3       0             0              0          2               1   \n",
       "4       0             1              0          3               0   \n",
       "\n",
       "   smoking_status  stroke  age_histogram  \n",
       "0               1       1             34  \n",
       "1               2       1             31  \n",
       "2               2       1             40  \n",
       "3               3       1             25  \n",
       "4               2       1             40  "
      ]
     },
     "execution_count": 25,
     "metadata": {},
     "output_type": "execute_result"
    }
   ],
   "source": [
    "continuous_data_columns = ['age', 'avg_glucose_level', 'bmi']\n",
    "df_categorical_data = df.drop(columns=continuous_data_columns)\n",
    "df_categorical_data.head()"
   ]
  },
  {
   "cell_type": "markdown",
   "id": "344ea810",
   "metadata": {},
   "source": [
    "#### Heatmap"
   ]
  },
  {
   "cell_type": "code",
   "execution_count": 26,
   "id": "951f8ba3-7b30-4e35-a121-f755268ffaea",
   "metadata": {},
   "outputs": [
    {
     "data": {
      "image/png": "[encoded data removed]",
      "text/plain": [
       "<Figure size 1200x1200 with 2 Axes>"
      ]
     },
     "metadata": {},
     "output_type": "display_data"
    }
   ],
   "source": [
    "df = df.apply(LabelEncoder().fit_transform)\n",
    "\n",
    "cor = df.corr()\n",
    "fig,ax = plt.subplots(figsize=(12,12))\n",
    "sns.heatmap(cor,annot=True,ax=ax,cmap='coolwarm');"
   ]
  },
  {
   "cell_type": "code",
   "execution_count": 27,
   "id": "9dbb329f-89ff-4e0e-b566-f8f470b76167",
   "metadata": {},
   "outputs": [
    {
     "data": {
      "text/html": [
       "<div>\n",
       "<style scoped>\n",
       "    .dataframe tbody tr th:only-of-type {\n",
       "        vertical-align: middle;\n",
       "    }\n",
       "\n",
       "    .dataframe tbody tr th {\n",
       "        vertical-align: top;\n",
       "    }\n",
       "\n",
       "    .dataframe thead th {\n",
       "        text-align: right;\n",
       "    }\n",
       "</style>\n",
       "<table border=\"1\" class=\"dataframe\">\n",
       "  <thead>\n",
       "    <tr style=\"text-align: right;\">\n",
       "      <th></th>\n",
       "      <th>gender</th>\n",
       "      <th>age</th>\n",
       "      <th>hypertension</th>\n",
       "      <th>heart_disease</th>\n",
       "      <th>work_type</th>\n",
       "      <th>Residence_type</th>\n",
       "      <th>avg_glucose_level</th>\n",
       "      <th>bmi</th>\n",
       "      <th>smoking_status</th>\n",
       "      <th>stroke</th>\n",
       "      <th>age_histogram</th>\n",
       "    </tr>\n",
       "  </thead>\n",
       "  <tbody>\n",
       "    <tr>\n",
       "      <th>0</th>\n",
       "      <td>1</td>\n",
       "      <td>64</td>\n",
       "      <td>0</td>\n",
       "      <td>1</td>\n",
       "      <td>2</td>\n",
       "      <td>1</td>\n",
       "      <td>3748</td>\n",
       "      <td>233</td>\n",
       "      <td>1</td>\n",
       "      <td>1</td>\n",
       "      <td>32</td>\n",
       "    </tr>\n",
       "    <tr>\n",
       "      <th>1</th>\n",
       "      <td>0</td>\n",
       "      <td>58</td>\n",
       "      <td>0</td>\n",
       "      <td>0</td>\n",
       "      <td>3</td>\n",
       "      <td>0</td>\n",
       "      <td>3487</td>\n",
       "      <td>408</td>\n",
       "      <td>2</td>\n",
       "      <td>1</td>\n",
       "      <td>29</td>\n",
       "    </tr>\n",
       "    <tr>\n",
       "      <th>2</th>\n",
       "      <td>1</td>\n",
       "      <td>77</td>\n",
       "      <td>0</td>\n",
       "      <td>1</td>\n",
       "      <td>2</td>\n",
       "      <td>0</td>\n",
       "      <td>2426</td>\n",
       "      <td>192</td>\n",
       "      <td>2</td>\n",
       "      <td>1</td>\n",
       "      <td>38</td>\n",
       "    </tr>\n",
       "    <tr>\n",
       "      <th>3</th>\n",
       "      <td>0</td>\n",
       "      <td>46</td>\n",
       "      <td>0</td>\n",
       "      <td>0</td>\n",
       "      <td>2</td>\n",
       "      <td>1</td>\n",
       "      <td>3285</td>\n",
       "      <td>211</td>\n",
       "      <td>3</td>\n",
       "      <td>1</td>\n",
       "      <td>23</td>\n",
       "    </tr>\n",
       "    <tr>\n",
       "      <th>4</th>\n",
       "      <td>0</td>\n",
       "      <td>76</td>\n",
       "      <td>1</td>\n",
       "      <td>0</td>\n",
       "      <td>3</td>\n",
       "      <td>0</td>\n",
       "      <td>3294</td>\n",
       "      <td>107</td>\n",
       "      <td>2</td>\n",
       "      <td>1</td>\n",
       "      <td>38</td>\n",
       "    </tr>\n",
       "  </tbody>\n",
       "</table>\n",
       "</div>"
      ],
      "text/plain": [
       "   gender  age  hypertension  heart_disease  work_type  Residence_type  \\\n",
       "0       1   64             0              1          2               1   \n",
       "1       0   58             0              0          3               0   \n",
       "2       1   77             0              1          2               0   \n",
       "3       0   46             0              0          2               1   \n",
       "4       0   76             1              0          3               0   \n",
       "\n",
       "   avg_glucose_level  bmi  smoking_status  stroke  age_histogram  \n",
       "0               3748  233               1       1             32  \n",
       "1               3487  408               2       1             29  \n",
       "2               2426  192               2       1             38  \n",
       "3               3285  211               3       1             23  \n",
       "4               3294  107               2       1             38  "
      ]
     },
     "execution_count": 27,
     "metadata": {},
     "output_type": "execute_result"
    }
   ],
   "source": [
    "df.head()"
   ]
  },
  {
   "cell_type": "code",
   "execution_count": 28,
   "id": "2c33fd54-7499-4ef7-a008-3d594cecf0b1",
   "metadata": {},
   "outputs": [],
   "source": [
    "# sns.pairplot(df,kind=\"kde\")"
   ]
  },
  {
   "cell_type": "code",
   "execution_count": null,
   "id": "d9f2d6e9-2449-411b-b148-f943757c419b",
   "metadata": {},
   "outputs": [],
   "source": []
  },
  {
   "cell_type": "code",
   "execution_count": null,
   "id": "958a06e6-899c-4013-aba8-436dbedb427e",
   "metadata": {},
   "outputs": [],
   "source": []
  },
  {
   "cell_type": "markdown",
   "id": "f875e61c",
   "metadata": {},
   "source": [
    "#### Correlation between categorical binary variable *stroke* and continuous variables *age*, *glucose_level*, and *bmi*"
   ]
  },
  {
   "cell_type": "markdown",
   "id": "3cbd40bd",
   "metadata": {},
   "source": [
    "#### Correlation between categorical binary variable *stroke* and categorical binary & nominal variables *gender*, *hypertension*, *heart_disease*, *Residence_type*, *work_type*, and *smoking_status*"
   ]
  },
  {
   "cell_type": "markdown",
   "id": "71a94c7d",
   "metadata": {},
   "source": [
    "## Supervised classification (with 1 feature)"
   ]
  },
  {
   "cell_type": "markdown",
   "id": "b971b908",
   "metadata": {},
   "source": [
    "- **Splitting the DataFrame into training and testing sets**,  \n",
    "- **Standardizing the features** using StandardScaler() to ensure they have a mean of 0 and a standard deviation of 1.\n",
    "- Testing data set = 20%"
   ]
  },
  {
   "cell_type": "code",
   "execution_count": 29,
   "id": "0f0a5388-28c2-4952-b3a3-2f6d2c9b3f1e",
   "metadata": {},
   "outputs": [],
   "source": [
    "X_train, X_test, y_train, y_test = train_test_split(df.drop('stroke', axis=1),df['stroke'],test_size = .2)\n",
    "scaler = StandardScaler()\n",
    "X_train = scaler.fit_transform(X_train)\n",
    "X_test = scaler.transform(X_test)"
   ]
  },
  {
   "cell_type": "markdown",
   "id": "e2e7e7fd",
   "metadata": {},
   "source": [
    "#### -- Random Forrest"
   ]
  },
  {
   "cell_type": "markdown",
   "id": "5df26cfe",
   "metadata": {},
   "source": [
    "##### Algorithm"
   ]
  },
  {
   "cell_type": "markdown",
   "id": "51f22ae4-f8ce-49d9-bec5-7f0df20cb1f8",
   "metadata": {},
   "source": [
    "Les algorithmes de forêts aléatoires sont un cas particulier du Bagging appliqué aux arbres de décision (CART).\n",
    "En plus du principe de Bagging, les forêts aléatoires ajoutent de l'aléa au niveau des variables. Pour chaque arbre on sélectionne un sous-échantillon par bootstrap d'individus et à chaque étape, la construction d'un nœud de l'arbre se fait sur un sous-ensemble de variables tirées aléatoirement.\n",
    "\n",
    "Le principe de fonctionnement des forêts aléatoires est simple : de nombreux petits arbres de classification sont produits sur une fraction aléatoire de données.\n",
    "Random Forest fait ensuite voter ces arbres de classification peu corrélés afin de déduire l'ordre et l'importance des variables explicatives.\n",
    "\n",
    "Les forêts aléatoires présentent de multiples avantages par rapport à d'autres modèles de classification :\n",
    "- Ce sont des modèles de classification multi-classe, efficaces sur les données de grande dimension.\n",
    "- Il s'agit de méthodes statistiques robustes au niveau de l'identification des valeurs aberrantes (outliers en anglais).\n",
    "- De manière générale, elles évitent l'overfitting, et ne nécessitent pas de validation croisée grâce aux échantillons \"Out of bag\".\n",
    "\n",
    "Cependant, les modèle de Random Forest ont souvent un temps d'apprentissage plus long que les modèles classiques, et sont difficilement interprétables."
   ]
  },
  {
   "cell_type": "code",
   "execution_count": 30,
   "id": "f62fe2f6",
   "metadata": {},
   "outputs": [
    {
     "data": {
      "text/html": [
       "<div>\n",
       "<style scoped>\n",
       "    .dataframe tbody tr th:only-of-type {\n",
       "        vertical-align: middle;\n",
       "    }\n",
       "\n",
       "    .dataframe tbody tr th {\n",
       "        vertical-align: top;\n",
       "    }\n",
       "\n",
       "    .dataframe thead th {\n",
       "        text-align: right;\n",
       "    }\n",
       "</style>\n",
       "<table border=\"1\" class=\"dataframe\">\n",
       "  <thead>\n",
       "    <tr style=\"text-align: right;\">\n",
       "      <th></th>\n",
       "      <th>gender</th>\n",
       "      <th>age</th>\n",
       "      <th>hypertension</th>\n",
       "      <th>heart_disease</th>\n",
       "      <th>work_type</th>\n",
       "      <th>Residence_type</th>\n",
       "      <th>avg_glucose_level</th>\n",
       "      <th>bmi</th>\n",
       "      <th>smoking_status</th>\n",
       "      <th>stroke</th>\n",
       "      <th>age_histogram</th>\n",
       "    </tr>\n",
       "  </thead>\n",
       "  <tbody>\n",
       "    <tr>\n",
       "      <th>0</th>\n",
       "      <td>1</td>\n",
       "      <td>64</td>\n",
       "      <td>0</td>\n",
       "      <td>1</td>\n",
       "      <td>2</td>\n",
       "      <td>1</td>\n",
       "      <td>3748</td>\n",
       "      <td>233</td>\n",
       "      <td>1</td>\n",
       "      <td>1</td>\n",
       "      <td>32</td>\n",
       "    </tr>\n",
       "    <tr>\n",
       "      <th>1</th>\n",
       "      <td>0</td>\n",
       "      <td>58</td>\n",
       "      <td>0</td>\n",
       "      <td>0</td>\n",
       "      <td>3</td>\n",
       "      <td>0</td>\n",
       "      <td>3487</td>\n",
       "      <td>408</td>\n",
       "      <td>2</td>\n",
       "      <td>1</td>\n",
       "      <td>29</td>\n",
       "    </tr>\n",
       "    <tr>\n",
       "      <th>2</th>\n",
       "      <td>1</td>\n",
       "      <td>77</td>\n",
       "      <td>0</td>\n",
       "      <td>1</td>\n",
       "      <td>2</td>\n",
       "      <td>0</td>\n",
       "      <td>2426</td>\n",
       "      <td>192</td>\n",
       "      <td>2</td>\n",
       "      <td>1</td>\n",
       "      <td>38</td>\n",
       "    </tr>\n",
       "    <tr>\n",
       "      <th>3</th>\n",
       "      <td>0</td>\n",
       "      <td>46</td>\n",
       "      <td>0</td>\n",
       "      <td>0</td>\n",
       "      <td>2</td>\n",
       "      <td>1</td>\n",
       "      <td>3285</td>\n",
       "      <td>211</td>\n",
       "      <td>3</td>\n",
       "      <td>1</td>\n",
       "      <td>23</td>\n",
       "    </tr>\n",
       "    <tr>\n",
       "      <th>4</th>\n",
       "      <td>0</td>\n",
       "      <td>76</td>\n",
       "      <td>1</td>\n",
       "      <td>0</td>\n",
       "      <td>3</td>\n",
       "      <td>0</td>\n",
       "      <td>3294</td>\n",
       "      <td>107</td>\n",
       "      <td>2</td>\n",
       "      <td>1</td>\n",
       "      <td>38</td>\n",
       "    </tr>\n",
       "  </tbody>\n",
       "</table>\n",
       "</div>"
      ],
      "text/plain": [
       "   gender  age  hypertension  heart_disease  work_type  Residence_type  \\\n",
       "0       1   64             0              1          2               1   \n",
       "1       0   58             0              0          3               0   \n",
       "2       1   77             0              1          2               0   \n",
       "3       0   46             0              0          2               1   \n",
       "4       0   76             1              0          3               0   \n",
       "\n",
       "   avg_glucose_level  bmi  smoking_status  stroke  age_histogram  \n",
       "0               3748  233               1       1             32  \n",
       "1               3487  408               2       1             29  \n",
       "2               2426  192               2       1             38  \n",
       "3               3285  211               3       1             23  \n",
       "4               3294  107               2       1             38  "
      ]
     },
     "execution_count": 30,
     "metadata": {},
     "output_type": "execute_result"
    }
   ],
   "source": [
    "df.head()"
   ]
  },
  {
   "cell_type": "code",
   "execution_count": 31,
   "id": "bb07c304-c0b8-42ab-b8b4-9959bf180579",
   "metadata": {},
   "outputs": [
    {
     "data": {
      "image/png": "[encoded data removed]",
      "text/plain": [
       "<Figure size 1600x200 with 1 Axes>"
      ]
     },
     "metadata": {},
     "output_type": "display_data"
    }
   ],
   "source": [
    "rfc1 = RandomForestClassifier()\n",
    "rfe = RFE(estimator=rfc1, step=1, n_features_to_select = 1)\n",
    "rfe.fit(X_train, y_train)\n",
    "mask = rfe.get_support()\n",
    "plt.matshow(mask.reshape(1,-1), cmap = 'gray_r')\n",
    "plt.xlabel('Axe des features');\n"
   ]
  },
  {
   "cell_type": "code",
   "execution_count": 32,
   "id": "f415afd7-9488-4d67-bc70-d9dd7ca8999b",
   "metadata": {},
   "outputs": [
    {
     "data": {
      "text/plain": [
       "array([False, False, False, False, False, False,  True, False, False,\n",
       "       False])"
      ]
     },
     "execution_count": 32,
     "metadata": {},
     "output_type": "execute_result"
    }
   ],
   "source": [
    "mask"
   ]
  },
  {
   "cell_type": "code",
   "execution_count": 33,
   "id": "7b751018-ba84-49e9-bd33-70c7a2c9fd0d",
   "metadata": {},
   "outputs": [
    {
     "data": {
      "image/png": "[encoded data removed]",
      "text/plain": [
       "<Figure size 1600x200 with 1 Axes>"
      ]
     },
     "metadata": {},
     "output_type": "display_data"
    }
   ],
   "source": [
    "ranking = rfe.ranking_\n",
    "plt.matshow(ranking.reshape(1,-1), cmap = 'gray_r')\n",
    "plt.xlabel('Axe des features');\n",
    "plt.show();"
   ]
  },
  {
   "cell_type": "code",
   "execution_count": 34,
   "id": "31415c91-315b-45fd-b1c4-168ad6984491",
   "metadata": {},
   "outputs": [
    {
     "data": {
      "text/html": [
       "<div>\n",
       "<style scoped>\n",
       "    .dataframe tbody tr th:only-of-type {\n",
       "        vertical-align: middle;\n",
       "    }\n",
       "\n",
       "    .dataframe tbody tr th {\n",
       "        vertical-align: top;\n",
       "    }\n",
       "\n",
       "    .dataframe thead th {\n",
       "        text-align: right;\n",
       "    }\n",
       "</style>\n",
       "<table border=\"1\" class=\"dataframe\">\n",
       "  <thead>\n",
       "    <tr style=\"text-align: right;\">\n",
       "      <th></th>\n",
       "      <th>gender</th>\n",
       "      <th>age</th>\n",
       "      <th>hypertension</th>\n",
       "      <th>heart_disease</th>\n",
       "      <th>work_type</th>\n",
       "      <th>Residence_type</th>\n",
       "      <th>avg_glucose_level</th>\n",
       "      <th>bmi</th>\n",
       "      <th>smoking_status</th>\n",
       "      <th>stroke</th>\n",
       "      <th>age_histogram</th>\n",
       "    </tr>\n",
       "  </thead>\n",
       "  <tbody>\n",
       "    <tr>\n",
       "      <th>0</th>\n",
       "      <td>1</td>\n",
       "      <td>64</td>\n",
       "      <td>0</td>\n",
       "      <td>1</td>\n",
       "      <td>2</td>\n",
       "      <td>1</td>\n",
       "      <td>3748</td>\n",
       "      <td>233</td>\n",
       "      <td>1</td>\n",
       "      <td>1</td>\n",
       "      <td>32</td>\n",
       "    </tr>\n",
       "    <tr>\n",
       "      <th>1</th>\n",
       "      <td>0</td>\n",
       "      <td>58</td>\n",
       "      <td>0</td>\n",
       "      <td>0</td>\n",
       "      <td>3</td>\n",
       "      <td>0</td>\n",
       "      <td>3487</td>\n",
       "      <td>408</td>\n",
       "      <td>2</td>\n",
       "      <td>1</td>\n",
       "      <td>29</td>\n",
       "    </tr>\n",
       "    <tr>\n",
       "      <th>2</th>\n",
       "      <td>1</td>\n",
       "      <td>77</td>\n",
       "      <td>0</td>\n",
       "      <td>1</td>\n",
       "      <td>2</td>\n",
       "      <td>0</td>\n",
       "      <td>2426</td>\n",
       "      <td>192</td>\n",
       "      <td>2</td>\n",
       "      <td>1</td>\n",
       "      <td>38</td>\n",
       "    </tr>\n",
       "    <tr>\n",
       "      <th>3</th>\n",
       "      <td>0</td>\n",
       "      <td>46</td>\n",
       "      <td>0</td>\n",
       "      <td>0</td>\n",
       "      <td>2</td>\n",
       "      <td>1</td>\n",
       "      <td>3285</td>\n",
       "      <td>211</td>\n",
       "      <td>3</td>\n",
       "      <td>1</td>\n",
       "      <td>23</td>\n",
       "    </tr>\n",
       "    <tr>\n",
       "      <th>4</th>\n",
       "      <td>0</td>\n",
       "      <td>76</td>\n",
       "      <td>1</td>\n",
       "      <td>0</td>\n",
       "      <td>3</td>\n",
       "      <td>0</td>\n",
       "      <td>3294</td>\n",
       "      <td>107</td>\n",
       "      <td>2</td>\n",
       "      <td>1</td>\n",
       "      <td>38</td>\n",
       "    </tr>\n",
       "  </tbody>\n",
       "</table>\n",
       "</div>"
      ],
      "text/plain": [
       "   gender  age  hypertension  heart_disease  work_type  Residence_type  \\\n",
       "0       1   64             0              1          2               1   \n",
       "1       0   58             0              0          3               0   \n",
       "2       1   77             0              1          2               0   \n",
       "3       0   46             0              0          2               1   \n",
       "4       0   76             1              0          3               0   \n",
       "\n",
       "   avg_glucose_level  bmi  smoking_status  stroke  age_histogram  \n",
       "0               3748  233               1       1             32  \n",
       "1               3487  408               2       1             29  \n",
       "2               2426  192               2       1             38  \n",
       "3               3285  211               3       1             23  \n",
       "4               3294  107               2       1             38  "
      ]
     },
     "execution_count": 34,
     "metadata": {},
     "output_type": "execute_result"
    }
   ],
   "source": [
    "df.head()"
   ]
  },
  {
   "cell_type": "markdown",
   "id": "b9ef9198",
   "metadata": {},
   "source": [
    "##### Evaluation"
   ]
  },
  {
   "cell_type": "code",
   "execution_count": 35,
   "id": "cfce5f43-bdf8-4e62-8f66-4e42b74d39e2",
   "metadata": {},
   "outputs": [
    {
     "data": {
      "image/png": "[encoded data removed]",
      "text/plain": [
       "<Figure size 1600x200 with 1 Axes>"
      ]
     },
     "metadata": {},
     "output_type": "display_data"
    }
   ],
   "source": [
    "lm = LinearRegression()\n",
    "rfc = RandomForestClassifier()\n",
    "\n",
    "crossval = KFold(n_splits = 5, random_state = 2, shuffle = True)\n",
    "rfecv = RFECV(estimator=rfc, cv = crossval, step=1)\n",
    "rfecv.fit(X_train, y_train)\n",
    "\n",
    "mask = rfecv.get_support()\n",
    "plt.matshow(mask.reshape(1,-1), cmap = 'gray_r')\n",
    "plt.xlabel('Axe des features');\n",
    "plt.show();\n"
   ]
  },
  {
   "cell_type": "code",
   "execution_count": null,
   "id": "3b7b2714-d514-4f79-aab0-f4c7681e6d98",
   "metadata": {},
   "outputs": [],
   "source": []
  },
  {
   "cell_type": "code",
   "execution_count": 36,
   "id": "b3b6b035-b03f-406a-b9f7-4f03ff163258",
   "metadata": {},
   "outputs": [
    {
     "name": "stdout",
     "output_type": "stream",
     "text": [
      "Nombre de features retenus : 8\n"
     ]
    },
    {
     "data": {
      "image/png": "[encoded data removed]",
      "text/plain": [
       "<Figure size 640x480 with 1 Axes>"
      ]
     },
     "metadata": {},
     "output_type": "display_data"
    }
   ],
   "source": [
    "plt.plot(rfecv.cv_results_['mean_test_score']);\n",
    "print(\"Nombre de features retenus :\", rfecv.n_features_)"
   ]
  },
  {
   "cell_type": "code",
   "execution_count": 37,
   "id": "6ebc2ddc-7c08-47d2-b048-783d027eca92",
   "metadata": {},
   "outputs": [
    {
     "data": {
      "text/plain": [
       "array([0.9160693 , 0.94345731, 0.94649978, 0.94396492, 0.94523203,\n",
       "       0.94700611, 0.94827353, 0.94903463, 0.94827482, 0.94878083])"
      ]
     },
     "execution_count": 37,
     "metadata": {},
     "output_type": "execute_result"
    }
   ],
   "source": [
    "rfecv.cv_results_['mean_test_score']"
   ]
  },
  {
   "cell_type": "code",
   "execution_count": null,
   "id": "6865a59b-7c7c-4b57-8330-ac2600c8e626",
   "metadata": {},
   "outputs": [],
   "source": []
  },
  {
   "cell_type": "code",
   "execution_count": null,
   "id": "cb581750-63f3-49aa-b18b-277d9e0c9d19",
   "metadata": {},
   "outputs": [],
   "source": []
  },
  {
   "cell_type": "code",
   "execution_count": null,
   "id": "d544adec-6635-4291-9436-cabda7db94b8",
   "metadata": {},
   "outputs": [],
   "source": []
  },
  {
   "cell_type": "markdown",
   "id": "9f4dc3c8",
   "metadata": {},
   "source": [
    "#### -- Other Algorithm"
   ]
  },
  {
   "cell_type": "markdown",
   "id": "dc0f9f08",
   "metadata": {},
   "source": [
    "##### Algorithm"
   ]
  },
  {
   "cell_type": "code",
   "execution_count": 38,
   "id": "4f550f86-ca61-49dc-8853-3f994d4af125",
   "metadata": {},
   "outputs": [
    {
     "data": {
      "text/html": [
       "<div>\n",
       "<style scoped>\n",
       "    .dataframe tbody tr th:only-of-type {\n",
       "        vertical-align: middle;\n",
       "    }\n",
       "\n",
       "    .dataframe tbody tr th {\n",
       "        vertical-align: top;\n",
       "    }\n",
       "\n",
       "    .dataframe thead th {\n",
       "        text-align: right;\n",
       "    }\n",
       "</style>\n",
       "<table border=\"1\" class=\"dataframe\">\n",
       "  <thead>\n",
       "    <tr style=\"text-align: right;\">\n",
       "      <th></th>\n",
       "      <th>gender</th>\n",
       "      <th>age</th>\n",
       "      <th>hypertension</th>\n",
       "      <th>heart_disease</th>\n",
       "      <th>work_type</th>\n",
       "      <th>Residence_type</th>\n",
       "      <th>avg_glucose_level</th>\n",
       "      <th>bmi</th>\n",
       "      <th>smoking_status</th>\n",
       "      <th>stroke</th>\n",
       "      <th>age_histogram</th>\n",
       "    </tr>\n",
       "  </thead>\n",
       "  <tbody>\n",
       "    <tr>\n",
       "      <th>0</th>\n",
       "      <td>1</td>\n",
       "      <td>64</td>\n",
       "      <td>0</td>\n",
       "      <td>1</td>\n",
       "      <td>2</td>\n",
       "      <td>1</td>\n",
       "      <td>3748</td>\n",
       "      <td>233</td>\n",
       "      <td>1</td>\n",
       "      <td>1</td>\n",
       "      <td>32</td>\n",
       "    </tr>\n",
       "    <tr>\n",
       "      <th>1</th>\n",
       "      <td>0</td>\n",
       "      <td>58</td>\n",
       "      <td>0</td>\n",
       "      <td>0</td>\n",
       "      <td>3</td>\n",
       "      <td>0</td>\n",
       "      <td>3487</td>\n",
       "      <td>408</td>\n",
       "      <td>2</td>\n",
       "      <td>1</td>\n",
       "      <td>29</td>\n",
       "    </tr>\n",
       "    <tr>\n",
       "      <th>2</th>\n",
       "      <td>1</td>\n",
       "      <td>77</td>\n",
       "      <td>0</td>\n",
       "      <td>1</td>\n",
       "      <td>2</td>\n",
       "      <td>0</td>\n",
       "      <td>2426</td>\n",
       "      <td>192</td>\n",
       "      <td>2</td>\n",
       "      <td>1</td>\n",
       "      <td>38</td>\n",
       "    </tr>\n",
       "    <tr>\n",
       "      <th>3</th>\n",
       "      <td>0</td>\n",
       "      <td>46</td>\n",
       "      <td>0</td>\n",
       "      <td>0</td>\n",
       "      <td>2</td>\n",
       "      <td>1</td>\n",
       "      <td>3285</td>\n",
       "      <td>211</td>\n",
       "      <td>3</td>\n",
       "      <td>1</td>\n",
       "      <td>23</td>\n",
       "    </tr>\n",
       "    <tr>\n",
       "      <th>4</th>\n",
       "      <td>0</td>\n",
       "      <td>76</td>\n",
       "      <td>1</td>\n",
       "      <td>0</td>\n",
       "      <td>3</td>\n",
       "      <td>0</td>\n",
       "      <td>3294</td>\n",
       "      <td>107</td>\n",
       "      <td>2</td>\n",
       "      <td>1</td>\n",
       "      <td>38</td>\n",
       "    </tr>\n",
       "  </tbody>\n",
       "</table>\n",
       "</div>"
      ],
      "text/plain": [
       "   gender  age  hypertension  heart_disease  work_type  Residence_type  \\\n",
       "0       1   64             0              1          2               1   \n",
       "1       0   58             0              0          3               0   \n",
       "2       1   77             0              1          2               0   \n",
       "3       0   46             0              0          2               1   \n",
       "4       0   76             1              0          3               0   \n",
       "\n",
       "   avg_glucose_level  bmi  smoking_status  stroke  age_histogram  \n",
       "0               3748  233               1       1             32  \n",
       "1               3487  408               2       1             29  \n",
       "2               2426  192               2       1             38  \n",
       "3               3285  211               3       1             23  \n",
       "4               3294  107               2       1             38  "
      ]
     },
     "execution_count": 38,
     "metadata": {},
     "output_type": "execute_result"
    }
   ],
   "source": [
    "df.head()"
   ]
  },
  {
   "cell_type": "code",
   "execution_count": null,
   "id": "ae752a4a-9775-43af-99ec-2ed2881328c2",
   "metadata": {},
   "outputs": [],
   "source": []
  },
  {
   "cell_type": "markdown",
   "id": "adb97b6d",
   "metadata": {},
   "source": [
    "##### Evaluation"
   ]
  },
  {
   "cell_type": "code",
   "execution_count": null,
   "id": "987bb664-dd86-4eeb-a463-764df3c4824b",
   "metadata": {},
   "outputs": [],
   "source": []
  },
  {
   "cell_type": "code",
   "execution_count": null,
   "id": "5813876b-6d88-4beb-89f4-c52941e0d837",
   "metadata": {},
   "outputs": [],
   "source": []
  },
  {
   "cell_type": "markdown",
   "id": "cd684730",
   "metadata": {},
   "source": [
    "#### -- Other Algorithm"
   ]
  },
  {
   "cell_type": "markdown",
   "id": "ac8b53d3",
   "metadata": {},
   "source": [
    "##### Algorithm"
   ]
  },
  {
   "cell_type": "code",
   "execution_count": null,
   "id": "f86f1023-831d-49ab-8a86-726c48bed963",
   "metadata": {},
   "outputs": [],
   "source": []
  },
  {
   "cell_type": "markdown",
   "id": "e3614fdb",
   "metadata": {},
   "source": [
    "##### Evaluation"
   ]
  },
  {
   "cell_type": "code",
   "execution_count": null,
   "id": "53eccba8-5098-4dff-9281-c86b7a3c5a20",
   "metadata": {},
   "outputs": [],
   "source": []
  },
  {
   "cell_type": "markdown",
   "id": "95d59280",
   "metadata": {},
   "source": [
    "## Supervised classification (with multiple features)"
   ]
  },
  {
   "cell_type": "code",
   "execution_count": null,
   "id": "943ded32-5fd1-43ec-8a12-774351c27060",
   "metadata": {},
   "outputs": [],
   "source": []
  },
  {
   "cell_type": "markdown",
   "id": "7b94c4e6",
   "metadata": {},
   "source": [
    "## Notes"
   ]
  },
  {
   "cell_type": "code",
   "execution_count": 39,
   "id": "bed1aeaf-2741-44f9-bfc0-17707d940d29",
   "metadata": {},
   "outputs": [],
   "source": [
    "#séparer correlation variable continu/discontinu et pearson ou dautre metrics"
   ]
  },
  {
   "cell_type": "code",
   "execution_count": 40,
   "id": "765b6e45-a6e7-4c3c-8dbf-649112e67d98",
   "metadata": {},
   "outputs": [],
   "source": [
    "#fumeur unknown : cb sont stroke ? si 0 ou très peu : delete !?"
   ]
  },
  {
   "cell_type": "code",
   "execution_count": 41,
   "id": "428bbc8f-f08f-4e4f-ba93-ae497c6bf641",
   "metadata": {},
   "outputs": [],
   "source": [
    "#enelver enfant sous 8ans"
   ]
  }
 ],
 "metadata": {
  "kernelspec": {
   "display_name": "Python 3 (ipykernel)",
   "language": "python",
   "name": "python3"
  },
  "language_info": {
   "codemirror_mode": {
    "name": "ipython",
    "version": 3
   },
   "file_extension": ".py",
   "mimetype": "text/x-python",
   "name": "python",
   "nbconvert_exporter": "python",
   "pygments_lexer": "ipython3",
   "version": "3.10.13"
  }
 },
 "nbformat": 4,
 "nbformat_minor": 5
}
